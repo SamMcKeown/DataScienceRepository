{
 "cells": [
  {
   "cell_type": "markdown",
   "id": "7554b17d",
   "metadata": {},
   "source": [
    "### Import CSV files to a postgreSQL database - manual\n",
    "\n",
    "### Contents<a class=\"anchor\" id=\"contents\"></a>\n",
    "\n",
    "- [1. Create pandas DataFrame from csv file](#section1)\n",
    "- [2. Clean tables names](#section2)\n",
    "- [3. Clean header names](#section3)\n",
    "- [4. SQL statement to create database table](#section4)\n",
    "    - [4-1. Replace pandas DataFrame datatypes with sql database datatypes](#section4.1)\n",
    "- [5. Establish a connection to database](#section5)\n",
    "- [6. Write SQL statement(s) to database](#section6)\n",
    "    - [6-1. Create a table](#section6.1)\n",
    "    - [6-2. Insert values into table](#section6.2)\n",
    "    - [6-3. Upload to database](#section6.3)\n",
    "    - [6-4. Table permissions](#section6.4)\n",
    "    - [6-5. Close connection](#section6.5)"
   ]
  },
  {
   "cell_type": "code",
   "execution_count": 1,
   "id": "f22611fb",
   "metadata": {},
   "outputs": [],
   "source": [
    "# Import libraries\n",
    "import os\n",
    "import numpy as np\n",
    "import pandas as pd\n",
    "import psycopg2 # - access PostgreSQL with Python"
   ]
  },
  {
   "cell_type": "code",
   "execution_count": 2,
   "id": "841d1d36",
   "metadata": {},
   "outputs": [
    {
     "name": "stdout",
     "output_type": "stream",
     "text": [
      "Customer Contracts$.csv  Customer Engagements.csv manualUpload.ipynb\r\n",
      "Customer Demo.csv        customer_contracts.csv\r\n"
     ]
    }
   ],
   "source": [
    "# Bash command - returns contents of the current working directory\n",
    "!ls"
   ]
  },
  {
   "cell_type": "markdown",
   "id": "f87b1684",
   "metadata": {},
   "source": [
    "### 1. Create pandas DataFrame from csv file<a class=\"anchor\" id=\"section1\"></a>"
   ]
  },
  {
   "cell_type": "code",
   "execution_count": 3,
   "id": "8cdec2df",
   "metadata": {},
   "outputs": [
    {
     "data": {
      "text/html": [
       "<div>\n",
       "<style scoped>\n",
       "    .dataframe tbody tr th:only-of-type {\n",
       "        vertical-align: middle;\n",
       "    }\n",
       "\n",
       "    .dataframe tbody tr th {\n",
       "        vertical-align: top;\n",
       "    }\n",
       "\n",
       "    .dataframe thead th {\n",
       "        text-align: right;\n",
       "    }\n",
       "</style>\n",
       "<table border=\"1\" class=\"dataframe\">\n",
       "  <thead>\n",
       "    <tr style=\"text-align: right;\">\n",
       "      <th></th>\n",
       "      <th>customer_name</th>\n",
       "      <th>start_date</th>\n",
       "      <th>end_date</th>\n",
       "      <th>contract_amount_m</th>\n",
       "      <th>invoice_sent</th>\n",
       "      <th>paid</th>\n",
       "    </tr>\n",
       "  </thead>\n",
       "  <tbody>\n",
       "    <tr>\n",
       "      <th>0</th>\n",
       "      <td>Nike</td>\n",
       "      <td>01-02-2019</td>\n",
       "      <td>12-20-2020</td>\n",
       "      <td>2.98</td>\n",
       "      <td>Yes</td>\n",
       "      <td>Yes</td>\n",
       "    </tr>\n",
       "    <tr>\n",
       "      <th>1</th>\n",
       "      <td>Reebox</td>\n",
       "      <td>06-20-2017</td>\n",
       "      <td>NaN</td>\n",
       "      <td>3.90</td>\n",
       "      <td>No</td>\n",
       "      <td>No</td>\n",
       "    </tr>\n",
       "    <tr>\n",
       "      <th>2</th>\n",
       "      <td>Adidas</td>\n",
       "      <td>12-07-2015</td>\n",
       "      <td>6-20-2018</td>\n",
       "      <td>4.82</td>\n",
       "      <td>Yes</td>\n",
       "      <td>Yes</td>\n",
       "    </tr>\n",
       "    <tr>\n",
       "      <th>3</th>\n",
       "      <td>Google</td>\n",
       "      <td>05-25-2014</td>\n",
       "      <td>03-20-2017</td>\n",
       "      <td>5.74</td>\n",
       "      <td>Yes</td>\n",
       "      <td>No</td>\n",
       "    </tr>\n",
       "    <tr>\n",
       "      <th>4</th>\n",
       "      <td>Amazon</td>\n",
       "      <td>11-10-2012</td>\n",
       "      <td>12-20-2015</td>\n",
       "      <td>6.66</td>\n",
       "      <td>No</td>\n",
       "      <td>Yes</td>\n",
       "    </tr>\n",
       "  </tbody>\n",
       "</table>\n",
       "</div>"
      ],
      "text/plain": [
       "  customer_name  start_date    end_date  contract_amount_m invoice_sent paid\n",
       "0          Nike  01-02-2019  12-20-2020               2.98          Yes  Yes\n",
       "1        Reebox  06-20-2017         NaN               3.90           No   No\n",
       "2        Adidas  12-07-2015   6-20-2018               4.82          Yes  Yes\n",
       "3        Google  05-25-2014  03-20-2017               5.74          Yes   No\n",
       "4        Amazon  11-10-2012  12-20-2015               6.66           No  Yes"
      ]
     },
     "metadata": {},
     "output_type": "display_data"
    }
   ],
   "source": [
    "df=pd.read_csv('Customer Contracts$.csv')\n",
    "display(df.head())"
   ]
  },
  {
   "cell_type": "markdown",
   "id": "c5e3d287",
   "metadata": {},
   "source": [
    "### 2. Clean tables names<a class=\"anchor\" id=\"section2\"></a>"
   ]
  },
  {
   "cell_type": "code",
   "execution_count": 4,
   "id": "70e613e9",
   "metadata": {},
   "outputs": [],
   "source": [
    "rawTableName='Customer Contracts$.csv'"
   ]
  },
  {
   "cell_type": "code",
   "execution_count": 5,
   "id": "5a7be0d1",
   "metadata": {},
   "outputs": [
    {
     "name": "stdout",
     "output_type": "stream",
     "text": [
      "customer_contracts.csv\n"
     ]
    }
   ],
   "source": [
    "# Clean table names\n",
    "cleanTableName = rawTableName.lower().replace('%', '').replace('$', '') \\\n",
    "                 .replace('£', '').replace('€', '').replace(')', '') \\\n",
    "                 .replace(r'(', '').replace('?', '').replace('!', '') \\\n",
    "                 .replace(' ', '_').replace('-', '_').replace(r'/', '_') \\\n",
    "                 .replace('\\\\', '_')\n",
    "\n",
    "print(cleanTableName)"
   ]
  },
  {
   "cell_type": "markdown",
   "id": "5cc1db56",
   "metadata": {},
   "source": [
    "### 3. Clean header names<a class=\"anchor\" id=\"section3\"></a>"
   ]
  },
  {
   "cell_type": "code",
   "execution_count": 6,
   "id": "6d09e31b",
   "metadata": {},
   "outputs": [
    {
     "name": "stdout",
     "output_type": "stream",
     "text": [
      "Index(['customer_name', 'start_date', 'end_date', 'contract_amount_m',\n",
      "       'invoice_sent', 'paid'],\n",
      "      dtype='object')\n"
     ]
    }
   ],
   "source": [
    "print(df.columns)"
   ]
  },
  {
   "cell_type": "code",
   "execution_count": 7,
   "id": "b9b29395",
   "metadata": {},
   "outputs": [],
   "source": [
    "# Clean column names\n",
    "df.columns = [x.lower().replace('%', '').replace('$', '') \\\n",
    "              .replace('£', '').replace('€', '').replace(')', '') \\\n",
    "              .replace(r'(', '').replace('?', '').replace('!', '') \\\n",
    "              .replace(' ', '_').replace('-', '_').replace(r'/', '_') \\\n",
    "              .replace('\\\\', '_') for x in df.columns]"
   ]
  },
  {
   "cell_type": "markdown",
   "id": "b15506e5",
   "metadata": {},
   "source": [
    "### 4. SQL statement to create a database table<a class=\"anchor\" id=\"section4\"></a>"
   ]
  },
  {
   "cell_type": "raw",
   "id": "8bcb6df9",
   "metadata": {},
   "source": [
    "# The SQL CREATE TABLE statement used to create a new table.\n",
    "\n",
    "CREATE TABLE customer_contracts \n",
    "(\n",
    "    customer_name         varchar,\n",
    "    start_date            varchar,\n",
    "    end_date              varchar,\n",
    "    contract_amount_m     float,\n",
    "    invoice_sent          varchar,\n",
    "    paid                  varchar \n",
    ");"
   ]
  },
  {
   "cell_type": "markdown",
   "id": "69ec7347",
   "metadata": {},
   "source": [
    "#### 4-1. Replace pandas DataFrame datatypes with sql database datatypes<a class=\"anchor\" id=\"section4.1\"></a>"
   ]
  },
  {
   "cell_type": "code",
   "execution_count": 8,
   "id": "9c4348b1",
   "metadata": {},
   "outputs": [
    {
     "name": "stdout",
     "output_type": "stream",
     "text": [
      "customer_name         object\n",
      "start_date            object\n",
      "end_date              object\n",
      "contract_amount_m    float64\n",
      "invoice_sent          object\n",
      "paid                  object\n",
      "dtype: object\n"
     ]
    }
   ],
   "source": [
    "# pandas DataFrame column dtypes\n",
    "print(df.dtypes)"
   ]
  },
  {
   "cell_type": "code",
   "execution_count": 9,
   "id": "a4af7f4e",
   "metadata": {},
   "outputs": [
    {
     "data": {
      "text/plain": [
       "{'object': 'varchar',\n",
       " 'float64': 'float',\n",
       " 'int64': 'int',\n",
       " 'datetime64': 'timestamp',\n",
       " 'timedelta64[ns]': 'varchar'}"
      ]
     },
     "metadata": {},
     "output_type": "display_data"
    }
   ],
   "source": [
    "# Dictionary mapping pandas dtypes to SQL dtypes\n",
    "dataTypeReplacements = {'object': 'varchar', 'float64': 'float',\n",
    "                        'int64': 'int', 'datetime64': 'timestamp',\n",
    "                        'timedelta64[ns]': 'varchar'}\n",
    "\n",
    "display(dataTypeReplacements)"
   ]
  },
  {
   "cell_type": "code",
   "execution_count": 10,
   "id": "3ffbf7d0",
   "metadata": {},
   "outputs": [
    {
     "data": {
      "text/plain": [
       "'customer_name varchar, start_date varchar, end_date varchar, contract_amount_m float, invoice_sent varchar, paid varchar'"
      ]
     },
     "metadata": {},
     "output_type": "display_data"
    }
   ],
   "source": [
    "# Table schema\n",
    "colString = ', '.join('{} {}'.format(n, d) for (n, d) \\\n",
    "                      in zip(df.columns, df.dtypes.replace(dataTypeReplacements)))\n",
    "\n",
    "display(colString)"
   ]
  },
  {
   "cell_type": "markdown",
   "id": "bc9e27f8",
   "metadata": {},
   "source": [
    "### 5. Establish a connection to database<a class=\"anchor\" id=\"section5\"></a>\n",
    "\n",
    "- `AWS RDS postgreSQL` database"
   ]
  },
  {
   "cell_type": "code",
   "execution_count": 11,
   "id": "e8f07d61",
   "metadata": {},
   "outputs": [
    {
     "name": "stdout",
     "output_type": "stream",
     "text": [
      "Connected to database\n"
     ]
    }
   ],
   "source": [
    "# Database configuration\n",
    "host = '####.cfa0pnoy####.eu-west-1.rds.amazonaws.com'\n",
    "databaseName = 'database_github'\n",
    "user = 'postgres'\n",
    "password = '####'\n",
    "    \n",
    "# Database details\n",
    "connectionString = \"host=%s dbname=%s user=%s password=%s\" % (host, databaseName, user, password)\n",
    "\n",
    "# Establish connection\n",
    "rdsConnection = psycopg2.connect(connectionString)\n",
    "\n",
    "# Opens the connection\n",
    "cursor = rdsConnection.cursor()\n",
    "print('Connected to database')"
   ]
  },
  {
   "cell_type": "markdown",
   "id": "b3c7beec",
   "metadata": {},
   "source": [
    "### 6. Write SQL statement(s) to database<a class=\"anchor\" id=\"section6\"></a>"
   ]
  },
  {
   "cell_type": "code",
   "execution_count": 12,
   "id": "b6317236",
   "metadata": {},
   "outputs": [],
   "source": [
    "# Drops any tables with the same name\n",
    "cursor.execute(\"DROP TABLE IF EXISTS customer_contracts\")"
   ]
  },
  {
   "cell_type": "markdown",
   "id": "294ba109",
   "metadata": {},
   "source": [
    "#### 6-1. Create a table<a class=\"anchor\" id=\"section6.1\"></a>"
   ]
  },
  {
   "cell_type": "code",
   "execution_count": 13,
   "id": "92fd676b",
   "metadata": {},
   "outputs": [],
   "source": [
    "# Creates table\n",
    "cursor.execute(\"CREATE TABLE customer_contracts \\\n",
    "( \\\n",
    "    customer_name         varchar, \\\n",
    "    start_date            varchar, \\\n",
    "    end_date              varchar, \\\n",
    "    contract_amount_m     float, \\\n",
    "    invoice_sent          varchar, \\\n",
    "    paid                  varchar \\\n",
    ");\"\n",
    "              )"
   ]
  },
  {
   "cell_type": "markdown",
   "id": "32cfde34",
   "metadata": {},
   "source": [
    "#### 6-2. Insert values into table<a class=\"anchor\" id=\"section6.2\"></a>"
   ]
  },
  {
   "cell_type": "code",
   "execution_count": 14,
   "id": "09f2b6e8",
   "metadata": {},
   "outputs": [
    {
     "name": "stdout",
     "output_type": "stream",
     "text": [
      "File opened in memory\n"
     ]
    }
   ],
   "source": [
    "# step 1. Save pandas DataFrame to a csv file\n",
    "df.to_csv('customer_contracts.csv', header=df.columns, index=False, encoding='utf-8')\n",
    "\n",
    "\n",
    "# step 2. Open the csv file to open it up in memory (note: file is saved as an object)\n",
    "myFile = open('customer_contracts.csv')\n",
    "print('File opened in memory')"
   ]
  },
  {
   "cell_type": "markdown",
   "id": "f40db0f3",
   "metadata": {},
   "source": [
    "#### 6-3. Upload to database<a class=\"anchor\" id=\"section6.3\"></a>"
   ]
  },
  {
   "cell_type": "code",
   "execution_count": 15,
   "id": "02260f11",
   "metadata": {},
   "outputs": [
    {
     "name": "stdout",
     "output_type": "stream",
     "text": [
      "File copied to database\n"
     ]
    }
   ],
   "source": [
    "# step 3. Upload the csv file to the created table in database\n",
    "# - copy the csv file open in memory, it has headers, it has commas as delimiters\n",
    "# - copy all of these values to table customer_contracts\n",
    "sqlStatement = \"\"\"\n",
    "               COPY customer_contracts FROM STDIN WITH\n",
    "                    CSV\n",
    "                    HEADER\n",
    "                    DELIMITER AS ','\n",
    "               \"\"\"\n",
    "\n",
    "# Execute this SQL statement\n",
    "# Utilise copy_expert method - inserts values into the table\n",
    "cursor.copy_expert(sql=sqlStatement, file=myFile)\n",
    "print('File copied to database')"
   ]
  },
  {
   "cell_type": "markdown",
   "id": "345f9c5a",
   "metadata": {},
   "source": [
    "#### 6-4. Table permissions<a class=\"anchor\" id=\"section6.4\"></a>"
   ]
  },
  {
   "cell_type": "code",
   "execution_count": 16,
   "id": "bf7013b9",
   "metadata": {},
   "outputs": [],
   "source": [
    "# Grant multiple users access to table\n",
    "cursor.execute('GRANT SELECT ON table customer_contracts TO public')\n",
    "rdsConnection.commit()"
   ]
  },
  {
   "cell_type": "markdown",
   "id": "bb2f109b",
   "metadata": {},
   "source": [
    "#### 6-5. Close connection<a class=\"anchor\" id=\"section6.5\"></a>"
   ]
  },
  {
   "cell_type": "code",
   "execution_count": 17,
   "id": "adb71c1e",
   "metadata": {},
   "outputs": [
    {
     "name": "stdout",
     "output_type": "stream",
     "text": [
      "Table customer_contracts successfully imported to database\n"
     ]
    }
   ],
   "source": [
    "# Close the connection to database\n",
    "cursor.close()\n",
    "print('Table customer_contracts successfully imported to database')"
   ]
  }
 ],
 "metadata": {
  "kernelspec": {
   "display_name": "Python 3 (ipykernel)",
   "language": "python",
   "name": "python3"
  },
  "language_info": {
   "codemirror_mode": {
    "name": "ipython",
    "version": 3
   },
   "file_extension": ".py",
   "mimetype": "text/x-python",
   "name": "python",
   "nbconvert_exporter": "python",
   "pygments_lexer": "ipython3",
   "version": "3.9.6"
  }
 },
 "nbformat": 4,
 "nbformat_minor": 5
}
