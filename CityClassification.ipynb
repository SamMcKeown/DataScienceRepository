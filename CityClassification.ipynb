{
 "cells": [
  {
   "cell_type": "markdown",
   "id": "922f75a5",
   "metadata": {},
   "source": [
    "### Sections <a class=\"anchor\" id=\"sections\"></a>\n",
    "\n",
    "- [1. Getting started](#section1)\n",
    "    - [1-1. Drop first column 'Unnamed: 0'](#section1.1)\n",
    "    - [1-2. Clean feature - floor](#section1.2)\n",
    "    - [1-3. Clean feature - animal](#section1.3)\n",
    "    - [1-4. Clean feature - furniture](#section1.4)\n",
    "    - [1-5. Clean multiple features - hoa, rent amount, property tax, fire insurance, total](#section1.5)\n",
    "- [2. Convert all column dtypes to integers](#section2)\n",
    "    - [2-1. Value error - invalid literal for int( ) with base 10: 'Sem info'](#section2.1)\n",
    "    - [2-2 Value error - invalid literal for int( ) with base 10: 'Incluso'](#section2.2)\n",
    "    - [2.3 Convert all column dtypes to integers II](#section2.3)\n",
    "- [3. Shuffle the data](#section3)\n",
    "- [4. Split the data](#section4)\n",
    "    - [4-1. Scale features before train test split](#section4.1)\n",
    "    - [4-2. Train test split](#section4.2)\n",
    "- [5. Train the models](#section5)\n",
    "    - [5.1 Logistic Regression classifier](#section5.1)\n",
    "    - [5.2 C-Support Vector Classification](#section5.2)\n",
    "    - [5-3. Multi-layer Perceptron classifier](#section5.3)\n",
    "- [6. Percentage of dataset that is positive (ie, label is city)](#section6)\n",
    "- [7. Predict class labels for samples in X_test](#section7)\n",
    "- [8. F-Score](#section8)"
   ]
  },
  {
   "cell_type": "code",
   "execution_count": 1,
   "id": "322adf49",
   "metadata": {},
   "outputs": [],
   "source": [
    "import numpy as np\n",
    "import pandas as pd\n",
    "\n",
    "import warnings\n",
    "warnings.filterwarnings('ignore')"
   ]
  },
  {
   "cell_type": "markdown",
   "id": "0bc766f5",
   "metadata": {},
   "source": [
    "### 1. Getting started<a class=\"anchor\" id=\"section1\"></a>"
   ]
  },
  {
   "cell_type": "code",
   "execution_count": 2,
   "id": "65cde708",
   "metadata": {},
   "outputs": [
    {
     "name": "stdout",
     "output_type": "stream",
     "text": [
      "(6080, 14)\n"
     ]
    },
    {
     "data": {
      "text/html": [
       "<div>\n",
       "<style scoped>\n",
       "    .dataframe tbody tr th:only-of-type {\n",
       "        vertical-align: middle;\n",
       "    }\n",
       "\n",
       "    .dataframe tbody tr th {\n",
       "        vertical-align: top;\n",
       "    }\n",
       "\n",
       "    .dataframe thead th {\n",
       "        text-align: right;\n",
       "    }\n",
       "</style>\n",
       "<table border=\"1\" class=\"dataframe\">\n",
       "  <thead>\n",
       "    <tr style=\"text-align: right;\">\n",
       "      <th></th>\n",
       "      <th>Unnamed: 0</th>\n",
       "      <th>city</th>\n",
       "      <th>area</th>\n",
       "      <th>rooms</th>\n",
       "      <th>bathroom</th>\n",
       "      <th>parking spaces</th>\n",
       "      <th>floor</th>\n",
       "      <th>animal</th>\n",
       "      <th>furniture</th>\n",
       "      <th>hoa</th>\n",
       "      <th>rent amount</th>\n",
       "      <th>property tax</th>\n",
       "      <th>fire insurance</th>\n",
       "      <th>total</th>\n",
       "    </tr>\n",
       "  </thead>\n",
       "  <tbody>\n",
       "    <tr>\n",
       "      <th>0</th>\n",
       "      <td>0</td>\n",
       "      <td>1</td>\n",
       "      <td>240</td>\n",
       "      <td>3</td>\n",
       "      <td>3</td>\n",
       "      <td>4</td>\n",
       "      <td>-</td>\n",
       "      <td>acept</td>\n",
       "      <td>furnished</td>\n",
       "      <td>R$0</td>\n",
       "      <td>R$8,000</td>\n",
       "      <td>R$1,000</td>\n",
       "      <td>R$121</td>\n",
       "      <td>R$9,121</td>\n",
       "    </tr>\n",
       "    <tr>\n",
       "      <th>1</th>\n",
       "      <td>1</td>\n",
       "      <td>0</td>\n",
       "      <td>64</td>\n",
       "      <td>2</td>\n",
       "      <td>1</td>\n",
       "      <td>1</td>\n",
       "      <td>10</td>\n",
       "      <td>acept</td>\n",
       "      <td>not furnished</td>\n",
       "      <td>R$540</td>\n",
       "      <td>R$820</td>\n",
       "      <td>R$122</td>\n",
       "      <td>R$11</td>\n",
       "      <td>R$1,493</td>\n",
       "    </tr>\n",
       "    <tr>\n",
       "      <th>2</th>\n",
       "      <td>2</td>\n",
       "      <td>1</td>\n",
       "      <td>443</td>\n",
       "      <td>5</td>\n",
       "      <td>5</td>\n",
       "      <td>4</td>\n",
       "      <td>3</td>\n",
       "      <td>acept</td>\n",
       "      <td>furnished</td>\n",
       "      <td>R$4,172</td>\n",
       "      <td>R$7,000</td>\n",
       "      <td>R$1,417</td>\n",
       "      <td>R$89</td>\n",
       "      <td>R$12,680</td>\n",
       "    </tr>\n",
       "    <tr>\n",
       "      <th>3</th>\n",
       "      <td>3</td>\n",
       "      <td>1</td>\n",
       "      <td>73</td>\n",
       "      <td>2</td>\n",
       "      <td>2</td>\n",
       "      <td>1</td>\n",
       "      <td>12</td>\n",
       "      <td>acept</td>\n",
       "      <td>not furnished</td>\n",
       "      <td>R$700</td>\n",
       "      <td>R$1,250</td>\n",
       "      <td>R$150</td>\n",
       "      <td>R$16</td>\n",
       "      <td>R$2,116</td>\n",
       "    </tr>\n",
       "    <tr>\n",
       "      <th>4</th>\n",
       "      <td>4</td>\n",
       "      <td>1</td>\n",
       "      <td>19</td>\n",
       "      <td>1</td>\n",
       "      <td>1</td>\n",
       "      <td>0</td>\n",
       "      <td>-</td>\n",
       "      <td>not acept</td>\n",
       "      <td>not furnished</td>\n",
       "      <td>R$0</td>\n",
       "      <td>R$1,200</td>\n",
       "      <td>R$41</td>\n",
       "      <td>R$16</td>\n",
       "      <td>R$1,257</td>\n",
       "    </tr>\n",
       "  </tbody>\n",
       "</table>\n",
       "</div>"
      ],
      "text/plain": [
       "   Unnamed: 0  city  area  rooms  bathroom  parking spaces floor     animal  \\\n",
       "0           0     1   240      3         3               4     -      acept   \n",
       "1           1     0    64      2         1               1    10      acept   \n",
       "2           2     1   443      5         5               4     3      acept   \n",
       "3           3     1    73      2         2               1    12      acept   \n",
       "4           4     1    19      1         1               0     -  not acept   \n",
       "\n",
       "       furniture      hoa rent amount property tax fire insurance     total  \n",
       "0      furnished      R$0     R$8,000      R$1,000          R$121   R$9,121  \n",
       "1  not furnished    R$540       R$820        R$122           R$11   R$1,493  \n",
       "2      furnished  R$4,172     R$7,000      R$1,417           R$89  R$12,680  \n",
       "3  not furnished    R$700     R$1,250        R$150           R$16   R$2,116  \n",
       "4  not furnished      R$0     R$1,200         R$41           R$16   R$1,257  "
      ]
     },
     "metadata": {},
     "output_type": "display_data"
    }
   ],
   "source": [
    "df = pd.read_csv('data/houseData.csv')\n",
    "print(df.shape)\n",
    "display(df.head())"
   ]
  },
  {
   "cell_type": "markdown",
   "id": "9eba05b7",
   "metadata": {},
   "source": [
    "#### 1-1. Drop first column 'Unnamed: 0'<a class=\"anchor\" id=\"section1.1\"></a>"
   ]
  },
  {
   "cell_type": "code",
   "execution_count": 3,
   "id": "d6d972a4",
   "metadata": {},
   "outputs": [
    {
     "data": {
      "text/html": [
       "<div>\n",
       "<style scoped>\n",
       "    .dataframe tbody tr th:only-of-type {\n",
       "        vertical-align: middle;\n",
       "    }\n",
       "\n",
       "    .dataframe tbody tr th {\n",
       "        vertical-align: top;\n",
       "    }\n",
       "\n",
       "    .dataframe thead th {\n",
       "        text-align: right;\n",
       "    }\n",
       "</style>\n",
       "<table border=\"1\" class=\"dataframe\">\n",
       "  <thead>\n",
       "    <tr style=\"text-align: right;\">\n",
       "      <th></th>\n",
       "      <th>city</th>\n",
       "      <th>area</th>\n",
       "      <th>rooms</th>\n",
       "      <th>bathroom</th>\n",
       "      <th>parking spaces</th>\n",
       "      <th>floor</th>\n",
       "      <th>animal</th>\n",
       "      <th>furniture</th>\n",
       "      <th>hoa</th>\n",
       "      <th>rent amount</th>\n",
       "      <th>property tax</th>\n",
       "      <th>fire insurance</th>\n",
       "      <th>total</th>\n",
       "    </tr>\n",
       "  </thead>\n",
       "  <tbody>\n",
       "    <tr>\n",
       "      <th>0</th>\n",
       "      <td>1</td>\n",
       "      <td>240</td>\n",
       "      <td>3</td>\n",
       "      <td>3</td>\n",
       "      <td>4</td>\n",
       "      <td>-</td>\n",
       "      <td>acept</td>\n",
       "      <td>furnished</td>\n",
       "      <td>R$0</td>\n",
       "      <td>R$8,000</td>\n",
       "      <td>R$1,000</td>\n",
       "      <td>R$121</td>\n",
       "      <td>R$9,121</td>\n",
       "    </tr>\n",
       "    <tr>\n",
       "      <th>1</th>\n",
       "      <td>0</td>\n",
       "      <td>64</td>\n",
       "      <td>2</td>\n",
       "      <td>1</td>\n",
       "      <td>1</td>\n",
       "      <td>10</td>\n",
       "      <td>acept</td>\n",
       "      <td>not furnished</td>\n",
       "      <td>R$540</td>\n",
       "      <td>R$820</td>\n",
       "      <td>R$122</td>\n",
       "      <td>R$11</td>\n",
       "      <td>R$1,493</td>\n",
       "    </tr>\n",
       "    <tr>\n",
       "      <th>2</th>\n",
       "      <td>1</td>\n",
       "      <td>443</td>\n",
       "      <td>5</td>\n",
       "      <td>5</td>\n",
       "      <td>4</td>\n",
       "      <td>3</td>\n",
       "      <td>acept</td>\n",
       "      <td>furnished</td>\n",
       "      <td>R$4,172</td>\n",
       "      <td>R$7,000</td>\n",
       "      <td>R$1,417</td>\n",
       "      <td>R$89</td>\n",
       "      <td>R$12,680</td>\n",
       "    </tr>\n",
       "    <tr>\n",
       "      <th>3</th>\n",
       "      <td>1</td>\n",
       "      <td>73</td>\n",
       "      <td>2</td>\n",
       "      <td>2</td>\n",
       "      <td>1</td>\n",
       "      <td>12</td>\n",
       "      <td>acept</td>\n",
       "      <td>not furnished</td>\n",
       "      <td>R$700</td>\n",
       "      <td>R$1,250</td>\n",
       "      <td>R$150</td>\n",
       "      <td>R$16</td>\n",
       "      <td>R$2,116</td>\n",
       "    </tr>\n",
       "    <tr>\n",
       "      <th>4</th>\n",
       "      <td>1</td>\n",
       "      <td>19</td>\n",
       "      <td>1</td>\n",
       "      <td>1</td>\n",
       "      <td>0</td>\n",
       "      <td>-</td>\n",
       "      <td>not acept</td>\n",
       "      <td>not furnished</td>\n",
       "      <td>R$0</td>\n",
       "      <td>R$1,200</td>\n",
       "      <td>R$41</td>\n",
       "      <td>R$16</td>\n",
       "      <td>R$1,257</td>\n",
       "    </tr>\n",
       "  </tbody>\n",
       "</table>\n",
       "</div>"
      ],
      "text/plain": [
       "   city  area  rooms  bathroom  parking spaces floor     animal  \\\n",
       "0     1   240      3         3               4     -      acept   \n",
       "1     0    64      2         1               1    10      acept   \n",
       "2     1   443      5         5               4     3      acept   \n",
       "3     1    73      2         2               1    12      acept   \n",
       "4     1    19      1         1               0     -  not acept   \n",
       "\n",
       "       furniture      hoa rent amount property tax fire insurance     total  \n",
       "0      furnished      R$0     R$8,000      R$1,000          R$121   R$9,121  \n",
       "1  not furnished    R$540       R$820        R$122           R$11   R$1,493  \n",
       "2      furnished  R$4,172     R$7,000      R$1,417           R$89  R$12,680  \n",
       "3  not furnished    R$700     R$1,250        R$150           R$16   R$2,116  \n",
       "4  not furnished      R$0     R$1,200         R$41           R$16   R$1,257  "
      ]
     },
     "metadata": {},
     "output_type": "display_data"
    }
   ],
   "source": [
    "df.drop(df.columns[0], axis=1, inplace=True)\n",
    "display(df.head())"
   ]
  },
  {
   "cell_type": "markdown",
   "id": "8f5c008a",
   "metadata": {},
   "source": [
    "#### 1-2. Clean feature - floor<a class=\"anchor\" id=\"section1.2\"></a>"
   ]
  },
  {
   "cell_type": "code",
   "execution_count": 4,
   "id": "b55f3028",
   "metadata": {},
   "outputs": [
    {
     "name": "stdout",
     "output_type": "stream",
     "text": [
      "['-' '10' '3' '12' '2' '16' '6' '4' '1' '7' '13' '9' '14' '5' '8' '15'\n",
      " '11' '19' '20' '24' '23' '17' '18' '22' '27' '85' '28' '25' '29' '35'\n",
      " '21' '31' '99' '26' '68' '32' '51']\n"
     ]
    }
   ],
   "source": [
    "# Return unique column values\n",
    "print(df['floor'].unique())"
   ]
  },
  {
   "cell_type": "code",
   "execution_count": 5,
   "id": "6e8c8356",
   "metadata": {},
   "outputs": [],
   "source": [
    "# Replace '-' symbol with 0\n",
    "df['floor'].replace(to_replace='-', value=0, inplace=True)"
   ]
  },
  {
   "cell_type": "markdown",
   "id": "d66e74da",
   "metadata": {},
   "source": [
    "#### 1-3. Clean feature - animal<a class=\"anchor\" id=\"section1.3\"></a>"
   ]
  },
  {
   "cell_type": "code",
   "execution_count": 6,
   "id": "91978c9a",
   "metadata": {},
   "outputs": [
    {
     "name": "stdout",
     "output_type": "stream",
     "text": [
      "['acept' 'not acept']\n"
     ]
    }
   ],
   "source": [
    "# Return unique column values\n",
    "print(df['animal'].unique())"
   ]
  },
  {
   "cell_type": "code",
   "execution_count": 7,
   "id": "9d7d38ad",
   "metadata": {},
   "outputs": [],
   "source": [
    "# Replace 'acept' value with 1\n",
    "df['animal'].replace('acept', 1, inplace=True)\n",
    "\n",
    "# Replace 'not acept' value with 1\n",
    "df['animal'].replace('not acept', 0, inplace=True)"
   ]
  },
  {
   "cell_type": "markdown",
   "id": "aa74f13c",
   "metadata": {},
   "source": [
    "#### 1-4. Clean feature - furniture<a class=\"anchor\" id=\"section1.4\"></a>"
   ]
  },
  {
   "cell_type": "code",
   "execution_count": 8,
   "id": "f7747cbc",
   "metadata": {},
   "outputs": [
    {
     "name": "stdout",
     "output_type": "stream",
     "text": [
      "['furnished' 'not furnished']\n"
     ]
    }
   ],
   "source": [
    "# Return unique column values\n",
    "print(df['furniture'].unique())"
   ]
  },
  {
   "cell_type": "code",
   "execution_count": 9,
   "id": "087134ac",
   "metadata": {},
   "outputs": [],
   "source": [
    "# replace 'furnished' with 1\n",
    "df['furniture'].replace('furnished', 1, inplace=True)\n",
    "\n",
    "# replace ' not furnished' with 0\n",
    "df['furniture'].replace('not furnished', 0, inplace=True)"
   ]
  },
  {
   "cell_type": "markdown",
   "id": "613d04e1",
   "metadata": {},
   "source": [
    "#### 1-5. Clean multiple features - hoa, rent amount, property tax, fire insurance, total<a class=\"anchor\" id=\"section1.5\"></a>"
   ]
  },
  {
   "cell_type": "code",
   "execution_count": 10,
   "id": "e080afb2",
   "metadata": {},
   "outputs": [
    {
     "name": "stdout",
     "output_type": "stream",
     "text": [
      "Index(['hoa', 'rent amount', 'property tax', 'fire insurance', 'total'], dtype='object')\n"
     ]
    }
   ],
   "source": [
    "print(df.columns[8:])"
   ]
  },
  {
   "cell_type": "code",
   "execution_count": 11,
   "id": "b563c8e2",
   "metadata": {},
   "outputs": [],
   "source": [
    "# Remove symbols 'R$' & ',' from values\n",
    "for column in df.columns[8:]:\n",
    "    df[column].replace('R\\$', '', regex=True, inplace=True)\n",
    "    df[column].replace(',', '', regex=True, inplace=True)"
   ]
  },
  {
   "cell_type": "markdown",
   "id": "b82c6161",
   "metadata": {},
   "source": [
    "### 2. Convert all column dtypes to integers<a class=\"anchor\" id=\"section2\"></a>"
   ]
  },
  {
   "cell_type": "code",
   "execution_count": 12,
   "id": "2b8df01e",
   "metadata": {},
   "outputs": [
    {
     "name": "stdout",
     "output_type": "stream",
     "text": [
      "city               int64\n",
      "area               int64\n",
      "rooms              int64\n",
      "bathroom           int64\n",
      "parking spaces     int64\n",
      "floor             object\n",
      "animal             int64\n",
      "furniture          int64\n",
      "hoa               object\n",
      "rent amount       object\n",
      "property tax      object\n",
      "fire insurance    object\n",
      "total             object\n",
      "dtype: object\n"
     ]
    }
   ],
   "source": [
    "# View column dtypes\n",
    "print(df.dtypes)"
   ]
  },
  {
   "cell_type": "code",
   "execution_count": 13,
   "id": "5cb78ce2",
   "metadata": {},
   "outputs": [
    {
     "ename": "ValueError",
     "evalue": "invalid literal for int() with base 10: 'Sem info'",
     "output_type": "error",
     "traceback": [
      "\u001b[0;31m---------------------------------------------------------------------------\u001b[0m",
      "\u001b[0;31mValueError\u001b[0m                                Traceback (most recent call last)",
      "\u001b[0;32m/var/folders/10/gbcywxj95dld2dt7r03klj4h0000gn/T/ipykernel_66529/1457474845.py\u001b[0m in \u001b[0;36m<module>\u001b[0;34m\u001b[0m\n\u001b[1;32m      1\u001b[0m \u001b[0;31m# Convert all values in the dataframe to integers\u001b[0m\u001b[0;34m\u001b[0m\u001b[0;34m\u001b[0m\u001b[0;34m\u001b[0m\u001b[0m\n\u001b[0;32m----> 2\u001b[0;31m \u001b[0mdf\u001b[0m \u001b[0;34m=\u001b[0m \u001b[0mdf\u001b[0m\u001b[0;34m.\u001b[0m\u001b[0mastype\u001b[0m\u001b[0;34m(\u001b[0m\u001b[0mdtype\u001b[0m\u001b[0;34m=\u001b[0m\u001b[0mnp\u001b[0m\u001b[0;34m.\u001b[0m\u001b[0mint64\u001b[0m\u001b[0;34m)\u001b[0m\u001b[0;34m\u001b[0m\u001b[0;34m\u001b[0m\u001b[0m\n\u001b[0m",
      "\u001b[0;32m/Library/Frameworks/Python.framework/Versions/3.9/lib/python3.9/site-packages/pandas/core/generic.py\u001b[0m in \u001b[0;36mastype\u001b[0;34m(self, dtype, copy, errors)\u001b[0m\n\u001b[1;32m   5813\u001b[0m         \u001b[0;32melse\u001b[0m\u001b[0;34m:\u001b[0m\u001b[0;34m\u001b[0m\u001b[0;34m\u001b[0m\u001b[0m\n\u001b[1;32m   5814\u001b[0m             \u001b[0;31m# else, only a single dtype is given\u001b[0m\u001b[0;34m\u001b[0m\u001b[0;34m\u001b[0m\u001b[0;34m\u001b[0m\u001b[0m\n\u001b[0;32m-> 5815\u001b[0;31m             \u001b[0mnew_data\u001b[0m \u001b[0;34m=\u001b[0m \u001b[0mself\u001b[0m\u001b[0;34m.\u001b[0m\u001b[0m_mgr\u001b[0m\u001b[0;34m.\u001b[0m\u001b[0mastype\u001b[0m\u001b[0;34m(\u001b[0m\u001b[0mdtype\u001b[0m\u001b[0;34m=\u001b[0m\u001b[0mdtype\u001b[0m\u001b[0;34m,\u001b[0m \u001b[0mcopy\u001b[0m\u001b[0;34m=\u001b[0m\u001b[0mcopy\u001b[0m\u001b[0;34m,\u001b[0m \u001b[0merrors\u001b[0m\u001b[0;34m=\u001b[0m\u001b[0merrors\u001b[0m\u001b[0;34m)\u001b[0m\u001b[0;34m\u001b[0m\u001b[0;34m\u001b[0m\u001b[0m\n\u001b[0m\u001b[1;32m   5816\u001b[0m             \u001b[0;32mreturn\u001b[0m \u001b[0mself\u001b[0m\u001b[0;34m.\u001b[0m\u001b[0m_constructor\u001b[0m\u001b[0;34m(\u001b[0m\u001b[0mnew_data\u001b[0m\u001b[0;34m)\u001b[0m\u001b[0;34m.\u001b[0m\u001b[0m__finalize__\u001b[0m\u001b[0;34m(\u001b[0m\u001b[0mself\u001b[0m\u001b[0;34m,\u001b[0m \u001b[0mmethod\u001b[0m\u001b[0;34m=\u001b[0m\u001b[0;34m\"astype\"\u001b[0m\u001b[0;34m)\u001b[0m\u001b[0;34m\u001b[0m\u001b[0;34m\u001b[0m\u001b[0m\n\u001b[1;32m   5817\u001b[0m \u001b[0;34m\u001b[0m\u001b[0m\n",
      "\u001b[0;32m/Library/Frameworks/Python.framework/Versions/3.9/lib/python3.9/site-packages/pandas/core/internals/managers.py\u001b[0m in \u001b[0;36mastype\u001b[0;34m(self, dtype, copy, errors)\u001b[0m\n\u001b[1;32m    416\u001b[0m \u001b[0;34m\u001b[0m\u001b[0m\n\u001b[1;32m    417\u001b[0m     \u001b[0;32mdef\u001b[0m \u001b[0mastype\u001b[0m\u001b[0;34m(\u001b[0m\u001b[0mself\u001b[0m\u001b[0;34m:\u001b[0m \u001b[0mT\u001b[0m\u001b[0;34m,\u001b[0m \u001b[0mdtype\u001b[0m\u001b[0;34m,\u001b[0m \u001b[0mcopy\u001b[0m\u001b[0;34m:\u001b[0m \u001b[0mbool\u001b[0m \u001b[0;34m=\u001b[0m \u001b[0;32mFalse\u001b[0m\u001b[0;34m,\u001b[0m \u001b[0merrors\u001b[0m\u001b[0;34m:\u001b[0m \u001b[0mstr\u001b[0m \u001b[0;34m=\u001b[0m \u001b[0;34m\"raise\"\u001b[0m\u001b[0;34m)\u001b[0m \u001b[0;34m->\u001b[0m \u001b[0mT\u001b[0m\u001b[0;34m:\u001b[0m\u001b[0;34m\u001b[0m\u001b[0;34m\u001b[0m\u001b[0m\n\u001b[0;32m--> 418\u001b[0;31m         \u001b[0;32mreturn\u001b[0m \u001b[0mself\u001b[0m\u001b[0;34m.\u001b[0m\u001b[0mapply\u001b[0m\u001b[0;34m(\u001b[0m\u001b[0;34m\"astype\"\u001b[0m\u001b[0;34m,\u001b[0m \u001b[0mdtype\u001b[0m\u001b[0;34m=\u001b[0m\u001b[0mdtype\u001b[0m\u001b[0;34m,\u001b[0m \u001b[0mcopy\u001b[0m\u001b[0;34m=\u001b[0m\u001b[0mcopy\u001b[0m\u001b[0;34m,\u001b[0m \u001b[0merrors\u001b[0m\u001b[0;34m=\u001b[0m\u001b[0merrors\u001b[0m\u001b[0;34m)\u001b[0m\u001b[0;34m\u001b[0m\u001b[0;34m\u001b[0m\u001b[0m\n\u001b[0m\u001b[1;32m    419\u001b[0m \u001b[0;34m\u001b[0m\u001b[0m\n\u001b[1;32m    420\u001b[0m     def convert(\n",
      "\u001b[0;32m/Library/Frameworks/Python.framework/Versions/3.9/lib/python3.9/site-packages/pandas/core/internals/managers.py\u001b[0m in \u001b[0;36mapply\u001b[0;34m(self, f, align_keys, ignore_failures, **kwargs)\u001b[0m\n\u001b[1;32m    325\u001b[0m                     \u001b[0mapplied\u001b[0m \u001b[0;34m=\u001b[0m \u001b[0mb\u001b[0m\u001b[0;34m.\u001b[0m\u001b[0mapply\u001b[0m\u001b[0;34m(\u001b[0m\u001b[0mf\u001b[0m\u001b[0;34m,\u001b[0m \u001b[0;34m**\u001b[0m\u001b[0mkwargs\u001b[0m\u001b[0;34m)\u001b[0m\u001b[0;34m\u001b[0m\u001b[0;34m\u001b[0m\u001b[0m\n\u001b[1;32m    326\u001b[0m                 \u001b[0;32melse\u001b[0m\u001b[0;34m:\u001b[0m\u001b[0;34m\u001b[0m\u001b[0;34m\u001b[0m\u001b[0m\n\u001b[0;32m--> 327\u001b[0;31m                     \u001b[0mapplied\u001b[0m \u001b[0;34m=\u001b[0m \u001b[0mgetattr\u001b[0m\u001b[0;34m(\u001b[0m\u001b[0mb\u001b[0m\u001b[0;34m,\u001b[0m \u001b[0mf\u001b[0m\u001b[0;34m)\u001b[0m\u001b[0;34m(\u001b[0m\u001b[0;34m**\u001b[0m\u001b[0mkwargs\u001b[0m\u001b[0;34m)\u001b[0m\u001b[0;34m\u001b[0m\u001b[0;34m\u001b[0m\u001b[0m\n\u001b[0m\u001b[1;32m    328\u001b[0m             \u001b[0;32mexcept\u001b[0m \u001b[0;34m(\u001b[0m\u001b[0mTypeError\u001b[0m\u001b[0;34m,\u001b[0m \u001b[0mNotImplementedError\u001b[0m\u001b[0;34m)\u001b[0m\u001b[0;34m:\u001b[0m\u001b[0;34m\u001b[0m\u001b[0;34m\u001b[0m\u001b[0m\n\u001b[1;32m    329\u001b[0m                 \u001b[0;32mif\u001b[0m \u001b[0;32mnot\u001b[0m \u001b[0mignore_failures\u001b[0m\u001b[0;34m:\u001b[0m\u001b[0;34m\u001b[0m\u001b[0;34m\u001b[0m\u001b[0m\n",
      "\u001b[0;32m/Library/Frameworks/Python.framework/Versions/3.9/lib/python3.9/site-packages/pandas/core/internals/blocks.py\u001b[0m in \u001b[0;36mastype\u001b[0;34m(self, dtype, copy, errors)\u001b[0m\n\u001b[1;32m    590\u001b[0m         \u001b[0mvalues\u001b[0m \u001b[0;34m=\u001b[0m \u001b[0mself\u001b[0m\u001b[0;34m.\u001b[0m\u001b[0mvalues\u001b[0m\u001b[0;34m\u001b[0m\u001b[0;34m\u001b[0m\u001b[0m\n\u001b[1;32m    591\u001b[0m \u001b[0;34m\u001b[0m\u001b[0m\n\u001b[0;32m--> 592\u001b[0;31m         \u001b[0mnew_values\u001b[0m \u001b[0;34m=\u001b[0m \u001b[0mastype_array_safe\u001b[0m\u001b[0;34m(\u001b[0m\u001b[0mvalues\u001b[0m\u001b[0;34m,\u001b[0m \u001b[0mdtype\u001b[0m\u001b[0;34m,\u001b[0m \u001b[0mcopy\u001b[0m\u001b[0;34m=\u001b[0m\u001b[0mcopy\u001b[0m\u001b[0;34m,\u001b[0m \u001b[0merrors\u001b[0m\u001b[0;34m=\u001b[0m\u001b[0merrors\u001b[0m\u001b[0;34m)\u001b[0m\u001b[0;34m\u001b[0m\u001b[0;34m\u001b[0m\u001b[0m\n\u001b[0m\u001b[1;32m    593\u001b[0m \u001b[0;34m\u001b[0m\u001b[0m\n\u001b[1;32m    594\u001b[0m         \u001b[0mnew_values\u001b[0m \u001b[0;34m=\u001b[0m \u001b[0mmaybe_coerce_values\u001b[0m\u001b[0;34m(\u001b[0m\u001b[0mnew_values\u001b[0m\u001b[0;34m)\u001b[0m\u001b[0;34m\u001b[0m\u001b[0;34m\u001b[0m\u001b[0m\n",
      "\u001b[0;32m/Library/Frameworks/Python.framework/Versions/3.9/lib/python3.9/site-packages/pandas/core/dtypes/cast.py\u001b[0m in \u001b[0;36mastype_array_safe\u001b[0;34m(values, dtype, copy, errors)\u001b[0m\n\u001b[1;32m   1307\u001b[0m \u001b[0;34m\u001b[0m\u001b[0m\n\u001b[1;32m   1308\u001b[0m     \u001b[0;32mtry\u001b[0m\u001b[0;34m:\u001b[0m\u001b[0;34m\u001b[0m\u001b[0;34m\u001b[0m\u001b[0m\n\u001b[0;32m-> 1309\u001b[0;31m         \u001b[0mnew_values\u001b[0m \u001b[0;34m=\u001b[0m \u001b[0mastype_array\u001b[0m\u001b[0;34m(\u001b[0m\u001b[0mvalues\u001b[0m\u001b[0;34m,\u001b[0m \u001b[0mdtype\u001b[0m\u001b[0;34m,\u001b[0m \u001b[0mcopy\u001b[0m\u001b[0;34m=\u001b[0m\u001b[0mcopy\u001b[0m\u001b[0;34m)\u001b[0m\u001b[0;34m\u001b[0m\u001b[0;34m\u001b[0m\u001b[0m\n\u001b[0m\u001b[1;32m   1310\u001b[0m     \u001b[0;32mexcept\u001b[0m \u001b[0;34m(\u001b[0m\u001b[0mValueError\u001b[0m\u001b[0;34m,\u001b[0m \u001b[0mTypeError\u001b[0m\u001b[0;34m)\u001b[0m\u001b[0;34m:\u001b[0m\u001b[0;34m\u001b[0m\u001b[0;34m\u001b[0m\u001b[0m\n\u001b[1;32m   1311\u001b[0m         \u001b[0;31m# e.g. astype_nansafe can fail on object-dtype of strings\u001b[0m\u001b[0;34m\u001b[0m\u001b[0;34m\u001b[0m\u001b[0;34m\u001b[0m\u001b[0m\n",
      "\u001b[0;32m/Library/Frameworks/Python.framework/Versions/3.9/lib/python3.9/site-packages/pandas/core/dtypes/cast.py\u001b[0m in \u001b[0;36mastype_array\u001b[0;34m(values, dtype, copy)\u001b[0m\n\u001b[1;32m   1255\u001b[0m \u001b[0;34m\u001b[0m\u001b[0m\n\u001b[1;32m   1256\u001b[0m     \u001b[0;32melse\u001b[0m\u001b[0;34m:\u001b[0m\u001b[0;34m\u001b[0m\u001b[0;34m\u001b[0m\u001b[0m\n\u001b[0;32m-> 1257\u001b[0;31m         \u001b[0mvalues\u001b[0m \u001b[0;34m=\u001b[0m \u001b[0mastype_nansafe\u001b[0m\u001b[0;34m(\u001b[0m\u001b[0mvalues\u001b[0m\u001b[0;34m,\u001b[0m \u001b[0mdtype\u001b[0m\u001b[0;34m,\u001b[0m \u001b[0mcopy\u001b[0m\u001b[0;34m=\u001b[0m\u001b[0mcopy\u001b[0m\u001b[0;34m)\u001b[0m\u001b[0;34m\u001b[0m\u001b[0;34m\u001b[0m\u001b[0m\n\u001b[0m\u001b[1;32m   1258\u001b[0m \u001b[0;34m\u001b[0m\u001b[0m\n\u001b[1;32m   1259\u001b[0m     \u001b[0;31m# in pandas we don't store numpy str dtypes, so convert to object\u001b[0m\u001b[0;34m\u001b[0m\u001b[0;34m\u001b[0m\u001b[0;34m\u001b[0m\u001b[0m\n",
      "\u001b[0;32m/Library/Frameworks/Python.framework/Versions/3.9/lib/python3.9/site-packages/pandas/core/dtypes/cast.py\u001b[0m in \u001b[0;36mastype_nansafe\u001b[0;34m(arr, dtype, copy, skipna)\u001b[0m\n\u001b[1;32m   1093\u001b[0m     \u001b[0;32mif\u001b[0m \u001b[0marr\u001b[0m\u001b[0;34m.\u001b[0m\u001b[0mndim\u001b[0m \u001b[0;34m>\u001b[0m \u001b[0;36m1\u001b[0m\u001b[0;34m:\u001b[0m\u001b[0;34m\u001b[0m\u001b[0;34m\u001b[0m\u001b[0m\n\u001b[1;32m   1094\u001b[0m         \u001b[0mflat\u001b[0m \u001b[0;34m=\u001b[0m \u001b[0marr\u001b[0m\u001b[0;34m.\u001b[0m\u001b[0mravel\u001b[0m\u001b[0;34m(\u001b[0m\u001b[0;34m)\u001b[0m\u001b[0;34m\u001b[0m\u001b[0;34m\u001b[0m\u001b[0m\n\u001b[0;32m-> 1095\u001b[0;31m         \u001b[0mresult\u001b[0m \u001b[0;34m=\u001b[0m \u001b[0mastype_nansafe\u001b[0m\u001b[0;34m(\u001b[0m\u001b[0mflat\u001b[0m\u001b[0;34m,\u001b[0m \u001b[0mdtype\u001b[0m\u001b[0;34m,\u001b[0m \u001b[0mcopy\u001b[0m\u001b[0;34m=\u001b[0m\u001b[0mcopy\u001b[0m\u001b[0;34m,\u001b[0m \u001b[0mskipna\u001b[0m\u001b[0;34m=\u001b[0m\u001b[0mskipna\u001b[0m\u001b[0;34m)\u001b[0m\u001b[0;34m\u001b[0m\u001b[0;34m\u001b[0m\u001b[0m\n\u001b[0m\u001b[1;32m   1096\u001b[0m         \u001b[0;31m# error: Item \"ExtensionArray\" of \"Union[ExtensionArray, ndarray]\" has no\u001b[0m\u001b[0;34m\u001b[0m\u001b[0;34m\u001b[0m\u001b[0;34m\u001b[0m\u001b[0m\n\u001b[1;32m   1097\u001b[0m         \u001b[0;31m# attribute \"reshape\"\u001b[0m\u001b[0;34m\u001b[0m\u001b[0;34m\u001b[0m\u001b[0;34m\u001b[0m\u001b[0m\n",
      "\u001b[0;32m/Library/Frameworks/Python.framework/Versions/3.9/lib/python3.9/site-packages/pandas/core/dtypes/cast.py\u001b[0m in \u001b[0;36mastype_nansafe\u001b[0;34m(arr, dtype, copy, skipna)\u001b[0m\n\u001b[1;32m   1172\u001b[0m         \u001b[0;31m# work around NumPy brokenness, #1987\u001b[0m\u001b[0;34m\u001b[0m\u001b[0;34m\u001b[0m\u001b[0;34m\u001b[0m\u001b[0m\n\u001b[1;32m   1173\u001b[0m         \u001b[0;32mif\u001b[0m \u001b[0mnp\u001b[0m\u001b[0;34m.\u001b[0m\u001b[0missubdtype\u001b[0m\u001b[0;34m(\u001b[0m\u001b[0mdtype\u001b[0m\u001b[0;34m.\u001b[0m\u001b[0mtype\u001b[0m\u001b[0;34m,\u001b[0m \u001b[0mnp\u001b[0m\u001b[0;34m.\u001b[0m\u001b[0minteger\u001b[0m\u001b[0;34m)\u001b[0m\u001b[0;34m:\u001b[0m\u001b[0;34m\u001b[0m\u001b[0;34m\u001b[0m\u001b[0m\n\u001b[0;32m-> 1174\u001b[0;31m             \u001b[0;32mreturn\u001b[0m \u001b[0mlib\u001b[0m\u001b[0;34m.\u001b[0m\u001b[0mastype_intsafe\u001b[0m\u001b[0;34m(\u001b[0m\u001b[0marr\u001b[0m\u001b[0;34m,\u001b[0m \u001b[0mdtype\u001b[0m\u001b[0;34m)\u001b[0m\u001b[0;34m\u001b[0m\u001b[0;34m\u001b[0m\u001b[0m\n\u001b[0m\u001b[1;32m   1175\u001b[0m \u001b[0;34m\u001b[0m\u001b[0m\n\u001b[1;32m   1176\u001b[0m         \u001b[0;31m# if we have a datetime/timedelta array of objects\u001b[0m\u001b[0;34m\u001b[0m\u001b[0;34m\u001b[0m\u001b[0;34m\u001b[0m\u001b[0m\n",
      "\u001b[0;32m/Library/Frameworks/Python.framework/Versions/3.9/lib/python3.9/site-packages/pandas/_libs/lib.pyx\u001b[0m in \u001b[0;36mpandas._libs.lib.astype_intsafe\u001b[0;34m()\u001b[0m\n",
      "\u001b[0;31mValueError\u001b[0m: invalid literal for int() with base 10: 'Sem info'"
     ]
    }
   ],
   "source": [
    "# Convert all values in the dataframe to integers\n",
    "df = df.astype(dtype=np.int64)"
   ]
  },
  {
   "cell_type": "markdown",
   "id": "736571b0",
   "metadata": {},
   "source": [
    "#### 2-1. Value error - invalid literal for int( ) with base 10: 'Sem info'<a class=\"anchor\" id=\"section2.1\"></a>"
   ]
  },
  {
   "cell_type": "code",
   "execution_count": 14,
   "id": "51928032",
   "metadata": {},
   "outputs": [
    {
     "name": "stdout",
     "output_type": "stream",
     "text": [
      "city              False\n",
      "area              False\n",
      "rooms             False\n",
      "bathroom          False\n",
      "parking spaces    False\n",
      "floor             False\n",
      "animal            False\n",
      "furniture         False\n",
      "hoa                True\n",
      "rent amount       False\n",
      "property tax      False\n",
      "fire insurance    False\n",
      "total             False\n",
      "dtype: bool\n"
     ]
    }
   ],
   "source": [
    "# Filter through each columns for a specific value\n",
    "print(df.isin(['Sem info']).any())"
   ]
  },
  {
   "cell_type": "code",
   "execution_count": 15,
   "id": "fa62a3b7",
   "metadata": {},
   "outputs": [],
   "source": [
    "# Replace 'Sem info' value with 0\n",
    "df['hoa'].replace('Sem info', 0, inplace=True)"
   ]
  },
  {
   "cell_type": "markdown",
   "id": "e0246a99",
   "metadata": {},
   "source": [
    "#### 2-2. Value error - invalid literal for int( ) with base 10: 'Incluso'<a class=\"anchor\" id=\"section2.2\"></a>"
   ]
  },
  {
   "cell_type": "code",
   "execution_count": 16,
   "id": "1335e61f",
   "metadata": {},
   "outputs": [
    {
     "name": "stdout",
     "output_type": "stream",
     "text": [
      "city              False\n",
      "area              False\n",
      "rooms             False\n",
      "bathroom          False\n",
      "parking spaces    False\n",
      "floor             False\n",
      "animal            False\n",
      "furniture         False\n",
      "hoa                True\n",
      "rent amount       False\n",
      "property tax       True\n",
      "fire insurance    False\n",
      "total             False\n",
      "dtype: bool\n"
     ]
    }
   ],
   "source": [
    "# Filter through each columns for a specific value\n",
    "print(df.isin(['Incluso']).any())"
   ]
  },
  {
   "cell_type": "code",
   "execution_count": 17,
   "id": "a7256476",
   "metadata": {},
   "outputs": [],
   "source": [
    "# Replace 'Incluso' value with 0\n",
    "for column in ['hoa', 'property tax']:\n",
    "    df[column].replace('Incluso', 0, inplace=True)"
   ]
  },
  {
   "cell_type": "markdown",
   "id": "df8d7c5e",
   "metadata": {},
   "source": [
    "#### 2-3. Convert all column dtypes to integers II<a class=\"anchor\" id=\"section2.3\"></a>"
   ]
  },
  {
   "cell_type": "code",
   "execution_count": 18,
   "id": "f2a03f4f",
   "metadata": {},
   "outputs": [
    {
     "name": "stdout",
     "output_type": "stream",
     "text": [
      "city              int64\n",
      "area              int64\n",
      "rooms             int64\n",
      "bathroom          int64\n",
      "parking spaces    int64\n",
      "floor             int64\n",
      "animal            int64\n",
      "furniture         int64\n",
      "hoa               int64\n",
      "rent amount       int64\n",
      "property tax      int64\n",
      "fire insurance    int64\n",
      "total             int64\n",
      "dtype: object\n"
     ]
    }
   ],
   "source": [
    "df = df.astype(dtype=np.int64)\n",
    "\n",
    "# View column dtypes\n",
    "print(df.dtypes)"
   ]
  },
  {
   "cell_type": "markdown",
   "id": "f9c9c39d",
   "metadata": {},
   "source": [
    "### 3. Shuffle the data<a class=\"anchor\" id=\"section3\"></a>"
   ]
  },
  {
   "cell_type": "code",
   "execution_count": 19,
   "id": "34afb862",
   "metadata": {},
   "outputs": [
    {
     "data": {
      "text/html": [
       "<div>\n",
       "<style scoped>\n",
       "    .dataframe tbody tr th:only-of-type {\n",
       "        vertical-align: middle;\n",
       "    }\n",
       "\n",
       "    .dataframe tbody tr th {\n",
       "        vertical-align: top;\n",
       "    }\n",
       "\n",
       "    .dataframe thead th {\n",
       "        text-align: right;\n",
       "    }\n",
       "</style>\n",
       "<table border=\"1\" class=\"dataframe\">\n",
       "  <thead>\n",
       "    <tr style=\"text-align: right;\">\n",
       "      <th></th>\n",
       "      <th>city</th>\n",
       "      <th>area</th>\n",
       "      <th>rooms</th>\n",
       "      <th>bathroom</th>\n",
       "      <th>parking spaces</th>\n",
       "      <th>floor</th>\n",
       "      <th>animal</th>\n",
       "      <th>furniture</th>\n",
       "      <th>hoa</th>\n",
       "      <th>rent amount</th>\n",
       "      <th>property tax</th>\n",
       "      <th>fire insurance</th>\n",
       "      <th>total</th>\n",
       "    </tr>\n",
       "  </thead>\n",
       "  <tbody>\n",
       "    <tr>\n",
       "      <th>0</th>\n",
       "      <td>1</td>\n",
       "      <td>240</td>\n",
       "      <td>3</td>\n",
       "      <td>3</td>\n",
       "      <td>4</td>\n",
       "      <td>0</td>\n",
       "      <td>1</td>\n",
       "      <td>1</td>\n",
       "      <td>0</td>\n",
       "      <td>8000</td>\n",
       "      <td>1000</td>\n",
       "      <td>121</td>\n",
       "      <td>9121</td>\n",
       "    </tr>\n",
       "    <tr>\n",
       "      <th>1</th>\n",
       "      <td>0</td>\n",
       "      <td>64</td>\n",
       "      <td>2</td>\n",
       "      <td>1</td>\n",
       "      <td>1</td>\n",
       "      <td>10</td>\n",
       "      <td>1</td>\n",
       "      <td>0</td>\n",
       "      <td>540</td>\n",
       "      <td>820</td>\n",
       "      <td>122</td>\n",
       "      <td>11</td>\n",
       "      <td>1493</td>\n",
       "    </tr>\n",
       "    <tr>\n",
       "      <th>2</th>\n",
       "      <td>1</td>\n",
       "      <td>443</td>\n",
       "      <td>5</td>\n",
       "      <td>5</td>\n",
       "      <td>4</td>\n",
       "      <td>3</td>\n",
       "      <td>1</td>\n",
       "      <td>1</td>\n",
       "      <td>4172</td>\n",
       "      <td>7000</td>\n",
       "      <td>1417</td>\n",
       "      <td>89</td>\n",
       "      <td>12680</td>\n",
       "    </tr>\n",
       "    <tr>\n",
       "      <th>3</th>\n",
       "      <td>1</td>\n",
       "      <td>73</td>\n",
       "      <td>2</td>\n",
       "      <td>2</td>\n",
       "      <td>1</td>\n",
       "      <td>12</td>\n",
       "      <td>1</td>\n",
       "      <td>0</td>\n",
       "      <td>700</td>\n",
       "      <td>1250</td>\n",
       "      <td>150</td>\n",
       "      <td>16</td>\n",
       "      <td>2116</td>\n",
       "    </tr>\n",
       "    <tr>\n",
       "      <th>4</th>\n",
       "      <td>1</td>\n",
       "      <td>19</td>\n",
       "      <td>1</td>\n",
       "      <td>1</td>\n",
       "      <td>0</td>\n",
       "      <td>0</td>\n",
       "      <td>0</td>\n",
       "      <td>0</td>\n",
       "      <td>0</td>\n",
       "      <td>1200</td>\n",
       "      <td>41</td>\n",
       "      <td>16</td>\n",
       "      <td>1257</td>\n",
       "    </tr>\n",
       "  </tbody>\n",
       "</table>\n",
       "</div>"
      ],
      "text/plain": [
       "   city  area  rooms  bathroom  parking spaces  floor  animal  furniture  \\\n",
       "0     1   240      3         3               4      0       1          1   \n",
       "1     0    64      2         1               1     10       1          0   \n",
       "2     1   443      5         5               4      3       1          1   \n",
       "3     1    73      2         2               1     12       1          0   \n",
       "4     1    19      1         1               0      0       0          0   \n",
       "\n",
       "    hoa  rent amount  property tax  fire insurance  total  \n",
       "0     0         8000          1000             121   9121  \n",
       "1   540          820           122              11   1493  \n",
       "2  4172         7000          1417              89  12680  \n",
       "3   700         1250           150              16   2116  \n",
       "4     0         1200            41              16   1257  "
      ]
     },
     "metadata": {},
     "output_type": "display_data"
    },
    {
     "data": {
      "text/html": [
       "<div>\n",
       "<style scoped>\n",
       "    .dataframe tbody tr th:only-of-type {\n",
       "        vertical-align: middle;\n",
       "    }\n",
       "\n",
       "    .dataframe tbody tr th {\n",
       "        vertical-align: top;\n",
       "    }\n",
       "\n",
       "    .dataframe thead th {\n",
       "        text-align: right;\n",
       "    }\n",
       "</style>\n",
       "<table border=\"1\" class=\"dataframe\">\n",
       "  <thead>\n",
       "    <tr style=\"text-align: right;\">\n",
       "      <th></th>\n",
       "      <th>city</th>\n",
       "      <th>area</th>\n",
       "      <th>rooms</th>\n",
       "      <th>bathroom</th>\n",
       "      <th>parking spaces</th>\n",
       "      <th>floor</th>\n",
       "      <th>animal</th>\n",
       "      <th>furniture</th>\n",
       "      <th>hoa</th>\n",
       "      <th>rent amount</th>\n",
       "      <th>property tax</th>\n",
       "      <th>fire insurance</th>\n",
       "      <th>total</th>\n",
       "    </tr>\n",
       "  </thead>\n",
       "  <tbody>\n",
       "    <tr>\n",
       "      <th>0</th>\n",
       "      <td>1</td>\n",
       "      <td>82</td>\n",
       "      <td>2</td>\n",
       "      <td>1</td>\n",
       "      <td>1</td>\n",
       "      <td>5</td>\n",
       "      <td>1</td>\n",
       "      <td>0</td>\n",
       "      <td>860</td>\n",
       "      <td>3400</td>\n",
       "      <td>0</td>\n",
       "      <td>44</td>\n",
       "      <td>4304</td>\n",
       "    </tr>\n",
       "    <tr>\n",
       "      <th>1</th>\n",
       "      <td>1</td>\n",
       "      <td>230</td>\n",
       "      <td>3</td>\n",
       "      <td>3</td>\n",
       "      <td>3</td>\n",
       "      <td>11</td>\n",
       "      <td>1</td>\n",
       "      <td>0</td>\n",
       "      <td>1900</td>\n",
       "      <td>4080</td>\n",
       "      <td>417</td>\n",
       "      <td>52</td>\n",
       "      <td>6449</td>\n",
       "    </tr>\n",
       "    <tr>\n",
       "      <th>2</th>\n",
       "      <td>1</td>\n",
       "      <td>210</td>\n",
       "      <td>5</td>\n",
       "      <td>4</td>\n",
       "      <td>1</td>\n",
       "      <td>0</td>\n",
       "      <td>1</td>\n",
       "      <td>0</td>\n",
       "      <td>0</td>\n",
       "      <td>15000</td>\n",
       "      <td>1667</td>\n",
       "      <td>226</td>\n",
       "      <td>16890</td>\n",
       "    </tr>\n",
       "    <tr>\n",
       "      <th>3</th>\n",
       "      <td>1</td>\n",
       "      <td>233</td>\n",
       "      <td>3</td>\n",
       "      <td>4</td>\n",
       "      <td>4</td>\n",
       "      <td>15</td>\n",
       "      <td>0</td>\n",
       "      <td>1</td>\n",
       "      <td>3780</td>\n",
       "      <td>4300</td>\n",
       "      <td>2567</td>\n",
       "      <td>55</td>\n",
       "      <td>10700</td>\n",
       "    </tr>\n",
       "    <tr>\n",
       "      <th>4</th>\n",
       "      <td>1</td>\n",
       "      <td>135</td>\n",
       "      <td>2</td>\n",
       "      <td>3</td>\n",
       "      <td>1</td>\n",
       "      <td>22</td>\n",
       "      <td>1</td>\n",
       "      <td>0</td>\n",
       "      <td>1415</td>\n",
       "      <td>6500</td>\n",
       "      <td>339</td>\n",
       "      <td>83</td>\n",
       "      <td>8337</td>\n",
       "    </tr>\n",
       "  </tbody>\n",
       "</table>\n",
       "</div>"
      ],
      "text/plain": [
       "   city  area  rooms  bathroom  parking spaces  floor  animal  furniture  \\\n",
       "0     1    82      2         1               1      5       1          0   \n",
       "1     1   230      3         3               3     11       1          0   \n",
       "2     1   210      5         4               1      0       1          0   \n",
       "3     1   233      3         4               4     15       0          1   \n",
       "4     1   135      2         3               1     22       1          0   \n",
       "\n",
       "    hoa  rent amount  property tax  fire insurance  total  \n",
       "0   860         3400             0              44   4304  \n",
       "1  1900         4080           417              52   6449  \n",
       "2     0        15000          1667             226  16890  \n",
       "3  3780         4300          2567              55  10700  \n",
       "4  1415         6500           339              83   8337  "
      ]
     },
     "metadata": {},
     "output_type": "display_data"
    }
   ],
   "source": [
    "# Fraction of the data = 100% & index reset before being dropped\n",
    "dfShuffled = df.sample(frac=1).reset_index(drop=True)\n",
    "\n",
    "# Compare\n",
    "display(df.head(), dfShuffled.head())"
   ]
  },
  {
   "cell_type": "markdown",
   "id": "c40f3752",
   "metadata": {},
   "source": [
    "### 4. Split the data<a class=\"anchor\" id=\"section4\"></a>"
   ]
  },
  {
   "cell_type": "code",
   "execution_count": 20,
   "id": "f183f957",
   "metadata": {},
   "outputs": [],
   "source": [
    "from sklearn.preprocessing import MinMaxScaler\n",
    "from sklearn.model_selection import train_test_split"
   ]
  },
  {
   "cell_type": "code",
   "execution_count": 21,
   "id": "8d01adec",
   "metadata": {},
   "outputs": [
    {
     "data": {
      "text/html": [
       "<div>\n",
       "<style scoped>\n",
       "    .dataframe tbody tr th:only-of-type {\n",
       "        vertical-align: middle;\n",
       "    }\n",
       "\n",
       "    .dataframe tbody tr th {\n",
       "        vertical-align: top;\n",
       "    }\n",
       "\n",
       "    .dataframe thead th {\n",
       "        text-align: right;\n",
       "    }\n",
       "</style>\n",
       "<table border=\"1\" class=\"dataframe\">\n",
       "  <thead>\n",
       "    <tr style=\"text-align: right;\">\n",
       "      <th></th>\n",
       "      <th>city</th>\n",
       "      <th>area</th>\n",
       "      <th>rooms</th>\n",
       "      <th>bathroom</th>\n",
       "      <th>parking spaces</th>\n",
       "      <th>floor</th>\n",
       "      <th>animal</th>\n",
       "      <th>furniture</th>\n",
       "      <th>hoa</th>\n",
       "      <th>rent amount</th>\n",
       "      <th>property tax</th>\n",
       "      <th>fire insurance</th>\n",
       "      <th>total</th>\n",
       "    </tr>\n",
       "  </thead>\n",
       "  <tbody>\n",
       "    <tr>\n",
       "      <th>0</th>\n",
       "      <td>1</td>\n",
       "      <td>82</td>\n",
       "      <td>2</td>\n",
       "      <td>1</td>\n",
       "      <td>1</td>\n",
       "      <td>5</td>\n",
       "      <td>1</td>\n",
       "      <td>0</td>\n",
       "      <td>860</td>\n",
       "      <td>3400</td>\n",
       "      <td>0</td>\n",
       "      <td>44</td>\n",
       "      <td>4304</td>\n",
       "    </tr>\n",
       "    <tr>\n",
       "      <th>1</th>\n",
       "      <td>1</td>\n",
       "      <td>230</td>\n",
       "      <td>3</td>\n",
       "      <td>3</td>\n",
       "      <td>3</td>\n",
       "      <td>11</td>\n",
       "      <td>1</td>\n",
       "      <td>0</td>\n",
       "      <td>1900</td>\n",
       "      <td>4080</td>\n",
       "      <td>417</td>\n",
       "      <td>52</td>\n",
       "      <td>6449</td>\n",
       "    </tr>\n",
       "    <tr>\n",
       "      <th>2</th>\n",
       "      <td>1</td>\n",
       "      <td>210</td>\n",
       "      <td>5</td>\n",
       "      <td>4</td>\n",
       "      <td>1</td>\n",
       "      <td>0</td>\n",
       "      <td>1</td>\n",
       "      <td>0</td>\n",
       "      <td>0</td>\n",
       "      <td>15000</td>\n",
       "      <td>1667</td>\n",
       "      <td>226</td>\n",
       "      <td>16890</td>\n",
       "    </tr>\n",
       "    <tr>\n",
       "      <th>3</th>\n",
       "      <td>1</td>\n",
       "      <td>233</td>\n",
       "      <td>3</td>\n",
       "      <td>4</td>\n",
       "      <td>4</td>\n",
       "      <td>15</td>\n",
       "      <td>0</td>\n",
       "      <td>1</td>\n",
       "      <td>3780</td>\n",
       "      <td>4300</td>\n",
       "      <td>2567</td>\n",
       "      <td>55</td>\n",
       "      <td>10700</td>\n",
       "    </tr>\n",
       "    <tr>\n",
       "      <th>4</th>\n",
       "      <td>1</td>\n",
       "      <td>135</td>\n",
       "      <td>2</td>\n",
       "      <td>3</td>\n",
       "      <td>1</td>\n",
       "      <td>22</td>\n",
       "      <td>1</td>\n",
       "      <td>0</td>\n",
       "      <td>1415</td>\n",
       "      <td>6500</td>\n",
       "      <td>339</td>\n",
       "      <td>83</td>\n",
       "      <td>8337</td>\n",
       "    </tr>\n",
       "  </tbody>\n",
       "</table>\n",
       "</div>"
      ],
      "text/plain": [
       "   city  area  rooms  bathroom  parking spaces  floor  animal  furniture  \\\n",
       "0     1    82      2         1               1      5       1          0   \n",
       "1     1   230      3         3               3     11       1          0   \n",
       "2     1   210      5         4               1      0       1          0   \n",
       "3     1   233      3         4               4     15       0          1   \n",
       "4     1   135      2         3               1     22       1          0   \n",
       "\n",
       "    hoa  rent amount  property tax  fire insurance  total  \n",
       "0   860         3400             0              44   4304  \n",
       "1  1900         4080           417              52   6449  \n",
       "2     0        15000          1667             226  16890  \n",
       "3  3780         4300          2567              55  10700  \n",
       "4  1415         6500           339              83   8337  "
      ]
     },
     "metadata": {},
     "output_type": "display_data"
    }
   ],
   "source": [
    "df = dfShuffled\n",
    "display(df.head())"
   ]
  },
  {
   "cell_type": "code",
   "execution_count": 22,
   "id": "61273189",
   "metadata": {},
   "outputs": [
    {
     "name": "stdout",
     "output_type": "stream",
     "text": [
      "<class 'pandas.core.series.Series'>\n",
      "<class 'pandas.core.frame.DataFrame'>\n"
     ]
    }
   ],
   "source": [
    "# y - label variable\n",
    "y = df['city']\n",
    "print(type(y))\n",
    "\n",
    "# X - feature vriables\n",
    "X = df.drop('city', axis=1)\n",
    "print(type(X))"
   ]
  },
  {
   "cell_type": "code",
   "execution_count": 23,
   "id": "25185f60",
   "metadata": {},
   "outputs": [
    {
     "name": "stdout",
     "output_type": "stream",
     "text": [
      "<class 'pandas.core.frame.DataFrame'>\n",
      "RangeIndex: 6080 entries, 0 to 6079\n",
      "Data columns (total 13 columns):\n",
      " #   Column          Non-Null Count  Dtype\n",
      "---  ------          --------------  -----\n",
      " 0   city            6080 non-null   int64\n",
      " 1   area            6080 non-null   int64\n",
      " 2   rooms           6080 non-null   int64\n",
      " 3   bathroom        6080 non-null   int64\n",
      " 4   parking spaces  6080 non-null   int64\n",
      " 5   floor           6080 non-null   int64\n",
      " 6   animal          6080 non-null   int64\n",
      " 7   furniture       6080 non-null   int64\n",
      " 8   hoa             6080 non-null   int64\n",
      " 9   rent amount     6080 non-null   int64\n",
      " 10  property tax    6080 non-null   int64\n",
      " 11  fire insurance  6080 non-null   int64\n",
      " 12  total           6080 non-null   int64\n",
      "dtypes: int64(13)\n",
      "memory usage: 617.6 KB\n"
     ]
    }
   ],
   "source": [
    "df.info()"
   ]
  },
  {
   "cell_type": "code",
   "execution_count": 24,
   "id": "6987cc0a",
   "metadata": {},
   "outputs": [
    {
     "data": {
      "text/html": [
       "<div>\n",
       "<style scoped>\n",
       "    .dataframe tbody tr th:only-of-type {\n",
       "        vertical-align: middle;\n",
       "    }\n",
       "\n",
       "    .dataframe tbody tr th {\n",
       "        vertical-align: top;\n",
       "    }\n",
       "\n",
       "    .dataframe thead th {\n",
       "        text-align: right;\n",
       "    }\n",
       "</style>\n",
       "<table border=\"1\" class=\"dataframe\">\n",
       "  <thead>\n",
       "    <tr style=\"text-align: right;\">\n",
       "      <th></th>\n",
       "      <th>count</th>\n",
       "      <th>mean</th>\n",
       "      <th>std</th>\n",
       "      <th>min</th>\n",
       "      <th>25%</th>\n",
       "      <th>50%</th>\n",
       "      <th>75%</th>\n",
       "      <th>max</th>\n",
       "    </tr>\n",
       "  </thead>\n",
       "  <tbody>\n",
       "    <tr>\n",
       "      <th>city</th>\n",
       "      <td>6080.0</td>\n",
       "      <td>0.863322</td>\n",
       "      <td>0.343535</td>\n",
       "      <td>0.0</td>\n",
       "      <td>1.0</td>\n",
       "      <td>1.0</td>\n",
       "      <td>1.0</td>\n",
       "      <td>1.0</td>\n",
       "    </tr>\n",
       "    <tr>\n",
       "      <th>area</th>\n",
       "      <td>6080.0</td>\n",
       "      <td>151.143914</td>\n",
       "      <td>375.559485</td>\n",
       "      <td>10.0</td>\n",
       "      <td>58.0</td>\n",
       "      <td>100.0</td>\n",
       "      <td>200.0</td>\n",
       "      <td>24606.0</td>\n",
       "    </tr>\n",
       "    <tr>\n",
       "      <th>rooms</th>\n",
       "      <td>6080.0</td>\n",
       "      <td>2.492599</td>\n",
       "      <td>1.129665</td>\n",
       "      <td>1.0</td>\n",
       "      <td>2.0</td>\n",
       "      <td>3.0</td>\n",
       "      <td>3.0</td>\n",
       "      <td>10.0</td>\n",
       "    </tr>\n",
       "    <tr>\n",
       "      <th>bathroom</th>\n",
       "      <td>6080.0</td>\n",
       "      <td>2.341612</td>\n",
       "      <td>1.438860</td>\n",
       "      <td>1.0</td>\n",
       "      <td>1.0</td>\n",
       "      <td>2.0</td>\n",
       "      <td>3.0</td>\n",
       "      <td>10.0</td>\n",
       "    </tr>\n",
       "    <tr>\n",
       "      <th>parking spaces</th>\n",
       "      <td>6080.0</td>\n",
       "      <td>1.756250</td>\n",
       "      <td>1.611909</td>\n",
       "      <td>0.0</td>\n",
       "      <td>1.0</td>\n",
       "      <td>1.0</td>\n",
       "      <td>2.0</td>\n",
       "      <td>12.0</td>\n",
       "    </tr>\n",
       "    <tr>\n",
       "      <th>floor</th>\n",
       "      <td>6080.0</td>\n",
       "      <td>5.672204</td>\n",
       "      <td>6.168918</td>\n",
       "      <td>0.0</td>\n",
       "      <td>0.0</td>\n",
       "      <td>4.0</td>\n",
       "      <td>9.0</td>\n",
       "      <td>99.0</td>\n",
       "    </tr>\n",
       "    <tr>\n",
       "      <th>animal</th>\n",
       "      <td>6080.0</td>\n",
       "      <td>0.767434</td>\n",
       "      <td>0.422502</td>\n",
       "      <td>0.0</td>\n",
       "      <td>1.0</td>\n",
       "      <td>1.0</td>\n",
       "      <td>1.0</td>\n",
       "      <td>1.0</td>\n",
       "    </tr>\n",
       "    <tr>\n",
       "      <th>furniture</th>\n",
       "      <td>6080.0</td>\n",
       "      <td>0.260197</td>\n",
       "      <td>0.438778</td>\n",
       "      <td>0.0</td>\n",
       "      <td>0.0</td>\n",
       "      <td>0.0</td>\n",
       "      <td>1.0</td>\n",
       "      <td>1.0</td>\n",
       "    </tr>\n",
       "    <tr>\n",
       "      <th>hoa</th>\n",
       "      <td>6080.0</td>\n",
       "      <td>1088.426480</td>\n",
       "      <td>3981.357627</td>\n",
       "      <td>0.0</td>\n",
       "      <td>24.5</td>\n",
       "      <td>650.0</td>\n",
       "      <td>1436.0</td>\n",
       "      <td>220000.0</td>\n",
       "    </tr>\n",
       "    <tr>\n",
       "      <th>rent amount</th>\n",
       "      <td>6080.0</td>\n",
       "      <td>4395.844408</td>\n",
       "      <td>3576.668946</td>\n",
       "      <td>420.0</td>\n",
       "      <td>1800.0</td>\n",
       "      <td>3111.0</td>\n",
       "      <td>5952.5</td>\n",
       "      <td>45000.0</td>\n",
       "    </tr>\n",
       "    <tr>\n",
       "      <th>property tax</th>\n",
       "      <td>6080.0</td>\n",
       "      <td>490.333388</td>\n",
       "      <td>6212.564538</td>\n",
       "      <td>0.0</td>\n",
       "      <td>33.0</td>\n",
       "      <td>145.0</td>\n",
       "      <td>458.0</td>\n",
       "      <td>366300.0</td>\n",
       "    </tr>\n",
       "    <tr>\n",
       "      <th>fire insurance</th>\n",
       "      <td>6080.0</td>\n",
       "      <td>58.204276</td>\n",
       "      <td>49.313441</td>\n",
       "      <td>3.0</td>\n",
       "      <td>23.0</td>\n",
       "      <td>41.0</td>\n",
       "      <td>77.0</td>\n",
       "      <td>677.0</td>\n",
       "    </tr>\n",
       "    <tr>\n",
       "      <th>total</th>\n",
       "      <td>6080.0</td>\n",
       "      <td>6033.194572</td>\n",
       "      <td>8751.347700</td>\n",
       "      <td>660.0</td>\n",
       "      <td>2451.5</td>\n",
       "      <td>4128.5</td>\n",
       "      <td>8074.0</td>\n",
       "      <td>372700.0</td>\n",
       "    </tr>\n",
       "  </tbody>\n",
       "</table>\n",
       "</div>"
      ],
      "text/plain": [
       "                 count         mean          std    min     25%     50%  \\\n",
       "city            6080.0     0.863322     0.343535    0.0     1.0     1.0   \n",
       "area            6080.0   151.143914   375.559485   10.0    58.0   100.0   \n",
       "rooms           6080.0     2.492599     1.129665    1.0     2.0     3.0   \n",
       "bathroom        6080.0     2.341612     1.438860    1.0     1.0     2.0   \n",
       "parking spaces  6080.0     1.756250     1.611909    0.0     1.0     1.0   \n",
       "floor           6080.0     5.672204     6.168918    0.0     0.0     4.0   \n",
       "animal          6080.0     0.767434     0.422502    0.0     1.0     1.0   \n",
       "furniture       6080.0     0.260197     0.438778    0.0     0.0     0.0   \n",
       "hoa             6080.0  1088.426480  3981.357627    0.0    24.5   650.0   \n",
       "rent amount     6080.0  4395.844408  3576.668946  420.0  1800.0  3111.0   \n",
       "property tax    6080.0   490.333388  6212.564538    0.0    33.0   145.0   \n",
       "fire insurance  6080.0    58.204276    49.313441    3.0    23.0    41.0   \n",
       "total           6080.0  6033.194572  8751.347700  660.0  2451.5  4128.5   \n",
       "\n",
       "                   75%       max  \n",
       "city               1.0       1.0  \n",
       "area             200.0   24606.0  \n",
       "rooms              3.0      10.0  \n",
       "bathroom           3.0      10.0  \n",
       "parking spaces     2.0      12.0  \n",
       "floor              9.0      99.0  \n",
       "animal             1.0       1.0  \n",
       "furniture          1.0       1.0  \n",
       "hoa             1436.0  220000.0  \n",
       "rent amount     5952.5   45000.0  \n",
       "property tax     458.0  366300.0  \n",
       "fire insurance    77.0     677.0  \n",
       "total           8074.0  372700.0  "
      ]
     },
     "metadata": {},
     "output_type": "display_data"
    }
   ],
   "source": [
    "display(df.describe().T)"
   ]
  },
  {
   "cell_type": "markdown",
   "id": "029a297a",
   "metadata": {},
   "source": [
    "#### 4-1. Scale features before train test split<a class=\"anchor\" id=\"section4.1\"></a>"
   ]
  },
  {
   "cell_type": "code",
   "execution_count": 25,
   "id": "3c123ede",
   "metadata": {},
   "outputs": [],
   "source": [
    "# Create scaler object \n",
    "scaler = MinMaxScaler(feature_range=(0, 1))\n",
    "\n",
    "# Fit features to the scaler\n",
    "scaler.fit(X)\n",
    "\n",
    "# Scale features of X according to feature_range\n",
    "X = scaler.transform(X)"
   ]
  },
  {
   "cell_type": "code",
   "execution_count": 26,
   "id": "2ef0917e",
   "metadata": {},
   "outputs": [
    {
     "data": {
      "text/plain": [
       "array([[2.92730525e-03, 1.11111111e-01, 0.00000000e+00, ...,\n",
       "        0.00000000e+00, 6.08308605e-02, 9.79464574e-03],\n",
       "       [8.94454383e-03, 2.22222222e-01, 2.22222222e-01, ...,\n",
       "        1.13841114e-03, 7.27002967e-02, 1.55601548e-02],\n",
       "       [8.13140348e-03, 4.44444444e-01, 3.33333333e-01, ...,\n",
       "        4.55091455e-03, 3.30860534e-01, 4.36243415e-02],\n",
       "       ...,\n",
       "       [4.06570174e-04, 0.00000000e+00, 0.00000000e+00, ...,\n",
       "        3.54900355e-04, 2.96735905e-02, 5.09353833e-03],\n",
       "       [5.69198244e-03, 4.44444444e-01, 4.44444444e-01, ...,\n",
       "        2.50341250e-03, 6.52818991e-02, 1.56004731e-02],\n",
       "       [2.03285087e-03, 1.11111111e-01, 1.11111111e-01, ...,\n",
       "        2.73000273e-04, 2.37388724e-02, 4.36512203e-03]])"
      ]
     },
     "metadata": {},
     "output_type": "display_data"
    }
   ],
   "source": [
    "# X is now a numpy array\n",
    "display(X)"
   ]
  },
  {
   "cell_type": "code",
   "execution_count": 27,
   "id": "9dfe24f2",
   "metadata": {},
   "outputs": [
    {
     "data": {
      "text/html": [
       "<div>\n",
       "<style scoped>\n",
       "    .dataframe tbody tr th:only-of-type {\n",
       "        vertical-align: middle;\n",
       "    }\n",
       "\n",
       "    .dataframe tbody tr th {\n",
       "        vertical-align: top;\n",
       "    }\n",
       "\n",
       "    .dataframe thead th {\n",
       "        text-align: right;\n",
       "    }\n",
       "</style>\n",
       "<table border=\"1\" class=\"dataframe\">\n",
       "  <thead>\n",
       "    <tr style=\"text-align: right;\">\n",
       "      <th></th>\n",
       "      <th>0</th>\n",
       "      <th>1</th>\n",
       "      <th>2</th>\n",
       "      <th>3</th>\n",
       "      <th>4</th>\n",
       "      <th>5</th>\n",
       "      <th>6</th>\n",
       "      <th>7</th>\n",
       "      <th>8</th>\n",
       "      <th>9</th>\n",
       "      <th>10</th>\n",
       "      <th>11</th>\n",
       "    </tr>\n",
       "  </thead>\n",
       "  <tbody>\n",
       "    <tr>\n",
       "      <th>0</th>\n",
       "      <td>0.002927</td>\n",
       "      <td>0.111111</td>\n",
       "      <td>0.000000</td>\n",
       "      <td>0.083333</td>\n",
       "      <td>0.050505</td>\n",
       "      <td>1.0</td>\n",
       "      <td>0.0</td>\n",
       "      <td>0.003909</td>\n",
       "      <td>0.066846</td>\n",
       "      <td>0.000000</td>\n",
       "      <td>0.060831</td>\n",
       "      <td>0.009795</td>\n",
       "    </tr>\n",
       "    <tr>\n",
       "      <th>1</th>\n",
       "      <td>0.008945</td>\n",
       "      <td>0.222222</td>\n",
       "      <td>0.222222</td>\n",
       "      <td>0.250000</td>\n",
       "      <td>0.111111</td>\n",
       "      <td>1.0</td>\n",
       "      <td>0.0</td>\n",
       "      <td>0.008636</td>\n",
       "      <td>0.082100</td>\n",
       "      <td>0.001138</td>\n",
       "      <td>0.072700</td>\n",
       "      <td>0.015560</td>\n",
       "    </tr>\n",
       "    <tr>\n",
       "      <th>2</th>\n",
       "      <td>0.008131</td>\n",
       "      <td>0.444444</td>\n",
       "      <td>0.333333</td>\n",
       "      <td>0.083333</td>\n",
       "      <td>0.000000</td>\n",
       "      <td>1.0</td>\n",
       "      <td>0.0</td>\n",
       "      <td>0.000000</td>\n",
       "      <td>0.327052</td>\n",
       "      <td>0.004551</td>\n",
       "      <td>0.330861</td>\n",
       "      <td>0.043624</td>\n",
       "    </tr>\n",
       "    <tr>\n",
       "      <th>3</th>\n",
       "      <td>0.009067</td>\n",
       "      <td>0.222222</td>\n",
       "      <td>0.333333</td>\n",
       "      <td>0.333333</td>\n",
       "      <td>0.151515</td>\n",
       "      <td>0.0</td>\n",
       "      <td>1.0</td>\n",
       "      <td>0.017182</td>\n",
       "      <td>0.087035</td>\n",
       "      <td>0.007008</td>\n",
       "      <td>0.077151</td>\n",
       "      <td>0.026986</td>\n",
       "    </tr>\n",
       "    <tr>\n",
       "      <th>4</th>\n",
       "      <td>0.005082</td>\n",
       "      <td>0.111111</td>\n",
       "      <td>0.222222</td>\n",
       "      <td>0.083333</td>\n",
       "      <td>0.222222</td>\n",
       "      <td>1.0</td>\n",
       "      <td>0.0</td>\n",
       "      <td>0.006432</td>\n",
       "      <td>0.136384</td>\n",
       "      <td>0.000925</td>\n",
       "      <td>0.118694</td>\n",
       "      <td>0.020635</td>\n",
       "    </tr>\n",
       "    <tr>\n",
       "      <th>...</th>\n",
       "      <td>...</td>\n",
       "      <td>...</td>\n",
       "      <td>...</td>\n",
       "      <td>...</td>\n",
       "      <td>...</td>\n",
       "      <td>...</td>\n",
       "      <td>...</td>\n",
       "      <td>...</td>\n",
       "      <td>...</td>\n",
       "      <td>...</td>\n",
       "      <td>...</td>\n",
       "      <td>...</td>\n",
       "    </tr>\n",
       "    <tr>\n",
       "      <th>6075</th>\n",
       "      <td>0.008131</td>\n",
       "      <td>0.222222</td>\n",
       "      <td>0.333333</td>\n",
       "      <td>0.250000</td>\n",
       "      <td>0.050505</td>\n",
       "      <td>1.0</td>\n",
       "      <td>1.0</td>\n",
       "      <td>0.018636</td>\n",
       "      <td>0.213661</td>\n",
       "      <td>0.002730</td>\n",
       "      <td>0.183976</td>\n",
       "      <td>0.039001</td>\n",
       "    </tr>\n",
       "    <tr>\n",
       "      <th>6076</th>\n",
       "      <td>0.005285</td>\n",
       "      <td>0.333333</td>\n",
       "      <td>0.111111</td>\n",
       "      <td>0.083333</td>\n",
       "      <td>0.080808</td>\n",
       "      <td>1.0</td>\n",
       "      <td>1.0</td>\n",
       "      <td>0.008182</td>\n",
       "      <td>0.044415</td>\n",
       "      <td>0.001327</td>\n",
       "      <td>0.041543</td>\n",
       "      <td>0.010905</td>\n",
       "    </tr>\n",
       "    <tr>\n",
       "      <th>6077</th>\n",
       "      <td>0.000407</td>\n",
       "      <td>0.000000</td>\n",
       "      <td>0.000000</td>\n",
       "      <td>0.000000</td>\n",
       "      <td>0.010101</td>\n",
       "      <td>1.0</td>\n",
       "      <td>1.0</td>\n",
       "      <td>0.002736</td>\n",
       "      <td>0.030956</td>\n",
       "      <td>0.000355</td>\n",
       "      <td>0.029674</td>\n",
       "      <td>0.005094</td>\n",
       "    </tr>\n",
       "    <tr>\n",
       "      <th>6078</th>\n",
       "      <td>0.005692</td>\n",
       "      <td>0.444444</td>\n",
       "      <td>0.444444</td>\n",
       "      <td>0.333333</td>\n",
       "      <td>0.030303</td>\n",
       "      <td>0.0</td>\n",
       "      <td>1.0</td>\n",
       "      <td>0.008182</td>\n",
       "      <td>0.073576</td>\n",
       "      <td>0.002503</td>\n",
       "      <td>0.065282</td>\n",
       "      <td>0.015600</td>\n",
       "    </tr>\n",
       "    <tr>\n",
       "      <th>6079</th>\n",
       "      <td>0.002033</td>\n",
       "      <td>0.111111</td>\n",
       "      <td>0.111111</td>\n",
       "      <td>0.083333</td>\n",
       "      <td>0.050505</td>\n",
       "      <td>1.0</td>\n",
       "      <td>0.0</td>\n",
       "      <td>0.003182</td>\n",
       "      <td>0.023441</td>\n",
       "      <td>0.000273</td>\n",
       "      <td>0.023739</td>\n",
       "      <td>0.004365</td>\n",
       "    </tr>\n",
       "  </tbody>\n",
       "</table>\n",
       "<p>6080 rows × 12 columns</p>\n",
       "</div>"
      ],
      "text/plain": [
       "            0         1         2         3         4    5    6         7   \\\n",
       "0     0.002927  0.111111  0.000000  0.083333  0.050505  1.0  0.0  0.003909   \n",
       "1     0.008945  0.222222  0.222222  0.250000  0.111111  1.0  0.0  0.008636   \n",
       "2     0.008131  0.444444  0.333333  0.083333  0.000000  1.0  0.0  0.000000   \n",
       "3     0.009067  0.222222  0.333333  0.333333  0.151515  0.0  1.0  0.017182   \n",
       "4     0.005082  0.111111  0.222222  0.083333  0.222222  1.0  0.0  0.006432   \n",
       "...        ...       ...       ...       ...       ...  ...  ...       ...   \n",
       "6075  0.008131  0.222222  0.333333  0.250000  0.050505  1.0  1.0  0.018636   \n",
       "6076  0.005285  0.333333  0.111111  0.083333  0.080808  1.0  1.0  0.008182   \n",
       "6077  0.000407  0.000000  0.000000  0.000000  0.010101  1.0  1.0  0.002736   \n",
       "6078  0.005692  0.444444  0.444444  0.333333  0.030303  0.0  1.0  0.008182   \n",
       "6079  0.002033  0.111111  0.111111  0.083333  0.050505  1.0  0.0  0.003182   \n",
       "\n",
       "            8         9         10        11  \n",
       "0     0.066846  0.000000  0.060831  0.009795  \n",
       "1     0.082100  0.001138  0.072700  0.015560  \n",
       "2     0.327052  0.004551  0.330861  0.043624  \n",
       "3     0.087035  0.007008  0.077151  0.026986  \n",
       "4     0.136384  0.000925  0.118694  0.020635  \n",
       "...        ...       ...       ...       ...  \n",
       "6075  0.213661  0.002730  0.183976  0.039001  \n",
       "6076  0.044415  0.001327  0.041543  0.010905  \n",
       "6077  0.030956  0.000355  0.029674  0.005094  \n",
       "6078  0.073576  0.002503  0.065282  0.015600  \n",
       "6079  0.023441  0.000273  0.023739  0.004365  \n",
       "\n",
       "[6080 rows x 12 columns]"
      ]
     },
     "metadata": {},
     "output_type": "display_data"
    }
   ],
   "source": [
    "# View X as a pandas DataFrame - all values now between 0 & 1\n",
    "display(pd.DataFrame(X))"
   ]
  },
  {
   "cell_type": "markdown",
   "id": "ddac3e2a",
   "metadata": {},
   "source": [
    "#### 4-2. Train test split<a class=\"anchor\" id=\"section4.2\"></a>"
   ]
  },
  {
   "cell_type": "code",
   "execution_count": 28,
   "id": "a5998150",
   "metadata": {},
   "outputs": [
    {
     "name": "stdout",
     "output_type": "stream",
     "text": [
      "(4864, 12) (1216, 12) (4864,) (1216,)\n"
     ]
    }
   ],
   "source": [
    "# Training size 80%\n",
    "X_train, X_test, y_train, y_test = train_test_split(X, y, train_size=0.8)\n",
    "print(X_train.shape, X_test.shape, y_train.shape, y_test.shape)"
   ]
  },
  {
   "cell_type": "markdown",
   "id": "f362510b",
   "metadata": {},
   "source": [
    "### 5. Train the models<a class=\"anchor\" id=\"section5\"></a>"
   ]
  },
  {
   "cell_type": "code",
   "execution_count": 29,
   "id": "8ada0326",
   "metadata": {},
   "outputs": [],
   "source": [
    "# model 1. Logistic Regression classifier\n",
    "from sklearn.linear_model import LogisticRegression\n",
    "\n",
    "# model 2. C-Support Vector Classification\n",
    "from sklearn.svm import SVC\n",
    "\n",
    "# model 3. Multi-layer Perceptron classifier\n",
    "from sklearn.neural_network import MLPClassifier"
   ]
  },
  {
   "cell_type": "markdown",
   "id": "9e4844a3",
   "metadata": {},
   "source": [
    "#### 5-1. Logistic Regression classifier<a class=\"anchor\" id=\"section5.1\"></a>"
   ]
  },
  {
   "cell_type": "code",
   "execution_count": 30,
   "id": "7e5ffd93",
   "metadata": {},
   "outputs": [
    {
     "name": "stdout",
     "output_type": "stream",
     "text": [
      "0.8618421052631579\n"
     ]
    }
   ],
   "source": [
    "# Create model\n",
    "logModel = LogisticRegression()\n",
    "\n",
    "# Fit the model according to the given training data\n",
    "logModel.fit(X_train, y_train)\n",
    "\n",
    "# Return the mean accuracy on the given test data and labels\n",
    "print(logModel.score(X_test, y_test))"
   ]
  },
  {
   "cell_type": "markdown",
   "id": "02f0315d",
   "metadata": {},
   "source": [
    "#### 5-2. C-Support Vector Classification<a class=\"anchor\" id=\"section5.2\"></a>"
   ]
  },
  {
   "cell_type": "code",
   "execution_count": 31,
   "id": "487b79d0",
   "metadata": {},
   "outputs": [
    {
     "name": "stdout",
     "output_type": "stream",
     "text": [
      "0.8618421052631579\n"
     ]
    }
   ],
   "source": [
    "# Create model\n",
    "svmModel = SVC()\n",
    "\n",
    "# Fit the model according to the given training data\n",
    "svmModel.fit(X_train, y_train)\n",
    "\n",
    "# Return the mean accuracy on the given test data and labels\n",
    "print(svmModel.score(X_test, y_test))"
   ]
  },
  {
   "cell_type": "markdown",
   "id": "964777d3",
   "metadata": {},
   "source": [
    "#### 5-3. Multi-layer Perceptron classifier<a class=\"anchor\" id=\"section5.3\"></a>"
   ]
  },
  {
   "cell_type": "code",
   "execution_count": 32,
   "id": "e6c89a9b",
   "metadata": {},
   "outputs": [
    {
     "name": "stdout",
     "output_type": "stream",
     "text": [
      "0.8856907894736842\n"
     ]
    }
   ],
   "source": [
    "# Create model\n",
    "# - two hidden layer, each with 16 nodes\n",
    "mlpModel = MLPClassifier(hidden_layer_sizes=(16,16))\n",
    "\n",
    "# Fit the model according to the given training data\n",
    "mlpModel.fit(X_train, y_train)\n",
    "\n",
    "# Return the mean accuracy on the given test data and labels\n",
    "print(mlpModel.score(X_test, y_test))"
   ]
  },
  {
   "cell_type": "markdown",
   "id": "a1e12f98",
   "metadata": {},
   "source": [
    "### 6. Percentage of dataset that is positive (ie, label is city)<a class=\"anchor\" id=\"section6\"></a>"
   ]
  },
  {
   "cell_type": "code",
   "execution_count": 33,
   "id": "154fe4ec",
   "metadata": {},
   "outputs": [
    {
     "name": "stdout",
     "output_type": "stream",
     "text": [
      "5249\n",
      "6080\n",
      "0.8633223684210526\n"
     ]
    }
   ],
   "source": [
    "# Take the sum of column to find positive examples (ie where city = 1)\n",
    "print(df['city'].sum())\n",
    "\n",
    "# Total number of examples\n",
    "print(df.shape[0])\n",
    "\n",
    "# Calculate the % of data that is postive (ie where city = 1)\n",
    "print(df['city'].sum() / df.shape[0])"
   ]
  },
  {
   "cell_type": "markdown",
   "id": "c2b79175",
   "metadata": {},
   "source": [
    "86% of our dataset is classified as a positive example.\n",
    "\n",
    "As such, the mean accruacy values seen earlier (5-1., 5-2., 5-3.) are just the number of correct predictions over the total number of predictions.\n",
    "\n",
    "Let's say each model predicted y = 1 for every example in our dataset. Then, 86% of the time the model will be correct.\n",
    "\n",
    "This accuracy metric is useful only when a dataset has an \"equal number of positive & negative examples\", Thus the dataset used in this example is skewed - ie the target labels are not in equal proportion.\n",
    "\n",
    "We can use a different metric called the \"F-score\". The F-score is a measure of a model’s accuracy on a dataset. It is used to evaluate binary classification systems, which classify examples into \"positive\" or \"negative\". The F-score is a way of combining the precision & recall of the model (defined as the harmonic mean of the model’s precision & recall)."
   ]
  },
  {
   "cell_type": "markdown",
   "id": "524c22f5",
   "metadata": {},
   "source": [
    "### 7. Predict class labels for samples in X_test<a class=\"anchor\" id=\"section7\"></a>"
   ]
  },
  {
   "cell_type": "code",
   "execution_count": 34,
   "id": "fa470753",
   "metadata": {},
   "outputs": [
    {
     "data": {
      "text/plain": [
       "array([1, 1, 1, ..., 1, 1, 1])"
      ]
     },
     "metadata": {},
     "output_type": "display_data"
    }
   ],
   "source": [
    "logPrediction = logModel.predict(X_test)\n",
    "display(logPrediction)"
   ]
  },
  {
   "cell_type": "code",
   "execution_count": 35,
   "id": "78262f5b",
   "metadata": {},
   "outputs": [
    {
     "data": {
      "text/plain": [
       "array([1, 1, 1, ..., 1, 1, 1])"
      ]
     },
     "metadata": {},
     "output_type": "display_data"
    }
   ],
   "source": [
    "svmPrediction = svmModel.predict(X_test)\n",
    "display(svmPrediction)"
   ]
  },
  {
   "cell_type": "code",
   "execution_count": 36,
   "id": "a6338841",
   "metadata": {},
   "outputs": [
    {
     "data": {
      "text/plain": [
       "array([1, 1, 1, ..., 1, 1, 0])"
      ]
     },
     "metadata": {},
     "output_type": "display_data"
    }
   ],
   "source": [
    "mlpPrediction = mlpModel.predict(X_test)\n",
    "display(mlpPrediction)"
   ]
  },
  {
   "cell_type": "code",
   "execution_count": 37,
   "id": "26215756",
   "metadata": {},
   "outputs": [
    {
     "data": {
      "text/html": [
       "<div>\n",
       "<style scoped>\n",
       "    .dataframe tbody tr th:only-of-type {\n",
       "        vertical-align: middle;\n",
       "    }\n",
       "\n",
       "    .dataframe tbody tr th {\n",
       "        vertical-align: top;\n",
       "    }\n",
       "\n",
       "    .dataframe thead th {\n",
       "        text-align: right;\n",
       "    }\n",
       "</style>\n",
       "<table border=\"1\" class=\"dataframe\">\n",
       "  <thead>\n",
       "    <tr style=\"text-align: right;\">\n",
       "      <th></th>\n",
       "      <th>city</th>\n",
       "      <th>area</th>\n",
       "      <th>rooms</th>\n",
       "      <th>bathroom</th>\n",
       "      <th>parking spaces</th>\n",
       "      <th>floor</th>\n",
       "      <th>animal</th>\n",
       "      <th>furniture</th>\n",
       "      <th>hoa</th>\n",
       "      <th>rent amount</th>\n",
       "      <th>property tax</th>\n",
       "      <th>fire insurance</th>\n",
       "      <th>total</th>\n",
       "    </tr>\n",
       "  </thead>\n",
       "  <tbody>\n",
       "    <tr>\n",
       "      <th>0</th>\n",
       "      <td>1</td>\n",
       "      <td>82</td>\n",
       "      <td>2</td>\n",
       "      <td>1</td>\n",
       "      <td>1</td>\n",
       "      <td>5</td>\n",
       "      <td>1</td>\n",
       "      <td>0</td>\n",
       "      <td>860</td>\n",
       "      <td>3400</td>\n",
       "      <td>0</td>\n",
       "      <td>44</td>\n",
       "      <td>4304</td>\n",
       "    </tr>\n",
       "    <tr>\n",
       "      <th>1</th>\n",
       "      <td>1</td>\n",
       "      <td>230</td>\n",
       "      <td>3</td>\n",
       "      <td>3</td>\n",
       "      <td>3</td>\n",
       "      <td>11</td>\n",
       "      <td>1</td>\n",
       "      <td>0</td>\n",
       "      <td>1900</td>\n",
       "      <td>4080</td>\n",
       "      <td>417</td>\n",
       "      <td>52</td>\n",
       "      <td>6449</td>\n",
       "    </tr>\n",
       "    <tr>\n",
       "      <th>2</th>\n",
       "      <td>1</td>\n",
       "      <td>210</td>\n",
       "      <td>5</td>\n",
       "      <td>4</td>\n",
       "      <td>1</td>\n",
       "      <td>0</td>\n",
       "      <td>1</td>\n",
       "      <td>0</td>\n",
       "      <td>0</td>\n",
       "      <td>15000</td>\n",
       "      <td>1667</td>\n",
       "      <td>226</td>\n",
       "      <td>16890</td>\n",
       "    </tr>\n",
       "    <tr>\n",
       "      <th>3</th>\n",
       "      <td>1</td>\n",
       "      <td>233</td>\n",
       "      <td>3</td>\n",
       "      <td>4</td>\n",
       "      <td>4</td>\n",
       "      <td>15</td>\n",
       "      <td>0</td>\n",
       "      <td>1</td>\n",
       "      <td>3780</td>\n",
       "      <td>4300</td>\n",
       "      <td>2567</td>\n",
       "      <td>55</td>\n",
       "      <td>10700</td>\n",
       "    </tr>\n",
       "    <tr>\n",
       "      <th>4</th>\n",
       "      <td>1</td>\n",
       "      <td>135</td>\n",
       "      <td>2</td>\n",
       "      <td>3</td>\n",
       "      <td>1</td>\n",
       "      <td>22</td>\n",
       "      <td>1</td>\n",
       "      <td>0</td>\n",
       "      <td>1415</td>\n",
       "      <td>6500</td>\n",
       "      <td>339</td>\n",
       "      <td>83</td>\n",
       "      <td>8337</td>\n",
       "    </tr>\n",
       "  </tbody>\n",
       "</table>\n",
       "</div>"
      ],
      "text/plain": [
       "   city  area  rooms  bathroom  parking spaces  floor  animal  furniture  \\\n",
       "0     1    82      2         1               1      5       1          0   \n",
       "1     1   230      3         3               3     11       1          0   \n",
       "2     1   210      5         4               1      0       1          0   \n",
       "3     1   233      3         4               4     15       0          1   \n",
       "4     1   135      2         3               1     22       1          0   \n",
       "\n",
       "    hoa  rent amount  property tax  fire insurance  total  \n",
       "0   860         3400             0              44   4304  \n",
       "1  1900         4080           417              52   6449  \n",
       "2     0        15000          1667             226  16890  \n",
       "3  3780         4300          2567              55  10700  \n",
       "4  1415         6500           339              83   8337  "
      ]
     },
     "metadata": {},
     "output_type": "display_data"
    },
    {
     "data": {
      "text/html": [
       "<div>\n",
       "<style scoped>\n",
       "    .dataframe tbody tr th:only-of-type {\n",
       "        vertical-align: middle;\n",
       "    }\n",
       "\n",
       "    .dataframe tbody tr th {\n",
       "        vertical-align: top;\n",
       "    }\n",
       "\n",
       "    .dataframe thead th {\n",
       "        text-align: right;\n",
       "    }\n",
       "</style>\n",
       "<table border=\"1\" class=\"dataframe\">\n",
       "  <thead>\n",
       "    <tr style=\"text-align: right;\">\n",
       "      <th></th>\n",
       "      <th>city</th>\n",
       "      <th>area</th>\n",
       "      <th>rooms</th>\n",
       "      <th>bathroom</th>\n",
       "      <th>parking spaces</th>\n",
       "      <th>floor</th>\n",
       "      <th>animal</th>\n",
       "      <th>furniture</th>\n",
       "      <th>hoa</th>\n",
       "      <th>rent amount</th>\n",
       "      <th>property tax</th>\n",
       "      <th>fire insurance</th>\n",
       "      <th>total</th>\n",
       "    </tr>\n",
       "  </thead>\n",
       "  <tbody>\n",
       "    <tr>\n",
       "      <th>6075</th>\n",
       "      <td>1</td>\n",
       "      <td>210</td>\n",
       "      <td>3</td>\n",
       "      <td>4</td>\n",
       "      <td>3</td>\n",
       "      <td>5</td>\n",
       "      <td>1</td>\n",
       "      <td>1</td>\n",
       "      <td>4100</td>\n",
       "      <td>9945</td>\n",
       "      <td>1000</td>\n",
       "      <td>127</td>\n",
       "      <td>15170</td>\n",
       "    </tr>\n",
       "    <tr>\n",
       "      <th>6076</th>\n",
       "      <td>1</td>\n",
       "      <td>140</td>\n",
       "      <td>4</td>\n",
       "      <td>2</td>\n",
       "      <td>1</td>\n",
       "      <td>8</td>\n",
       "      <td>1</td>\n",
       "      <td>1</td>\n",
       "      <td>1800</td>\n",
       "      <td>2400</td>\n",
       "      <td>486</td>\n",
       "      <td>31</td>\n",
       "      <td>4717</td>\n",
       "    </tr>\n",
       "    <tr>\n",
       "      <th>6077</th>\n",
       "      <td>1</td>\n",
       "      <td>20</td>\n",
       "      <td>1</td>\n",
       "      <td>1</td>\n",
       "      <td>0</td>\n",
       "      <td>1</td>\n",
       "      <td>1</td>\n",
       "      <td>1</td>\n",
       "      <td>602</td>\n",
       "      <td>1800</td>\n",
       "      <td>130</td>\n",
       "      <td>23</td>\n",
       "      <td>2555</td>\n",
       "    </tr>\n",
       "    <tr>\n",
       "      <th>6078</th>\n",
       "      <td>1</td>\n",
       "      <td>150</td>\n",
       "      <td>5</td>\n",
       "      <td>5</td>\n",
       "      <td>4</td>\n",
       "      <td>3</td>\n",
       "      <td>0</td>\n",
       "      <td>1</td>\n",
       "      <td>1800</td>\n",
       "      <td>3700</td>\n",
       "      <td>917</td>\n",
       "      <td>47</td>\n",
       "      <td>6464</td>\n",
       "    </tr>\n",
       "    <tr>\n",
       "      <th>6079</th>\n",
       "      <td>1</td>\n",
       "      <td>60</td>\n",
       "      <td>2</td>\n",
       "      <td>2</td>\n",
       "      <td>1</td>\n",
       "      <td>5</td>\n",
       "      <td>1</td>\n",
       "      <td>0</td>\n",
       "      <td>700</td>\n",
       "      <td>1465</td>\n",
       "      <td>100</td>\n",
       "      <td>19</td>\n",
       "      <td>2284</td>\n",
       "    </tr>\n",
       "  </tbody>\n",
       "</table>\n",
       "</div>"
      ],
      "text/plain": [
       "      city  area  rooms  bathroom  parking spaces  floor  animal  furniture  \\\n",
       "6075     1   210      3         4               3      5       1          1   \n",
       "6076     1   140      4         2               1      8       1          1   \n",
       "6077     1    20      1         1               0      1       1          1   \n",
       "6078     1   150      5         5               4      3       0          1   \n",
       "6079     1    60      2         2               1      5       1          0   \n",
       "\n",
       "       hoa  rent amount  property tax  fire insurance  total  \n",
       "6075  4100         9945          1000             127  15170  \n",
       "6076  1800         2400           486              31   4717  \n",
       "6077   602         1800           130              23   2555  \n",
       "6078  1800         3700           917              47   6464  \n",
       "6079   700         1465           100              19   2284  "
      ]
     },
     "metadata": {},
     "output_type": "display_data"
    }
   ],
   "source": [
    "# For reference\n",
    "display(df.head(), df.tail())"
   ]
  },
  {
   "cell_type": "markdown",
   "id": "d8952ca7",
   "metadata": {},
   "source": [
    "### 8. F-score<a class=\"anchor\" id=\"section8\"></a>"
   ]
  },
  {
   "cell_type": "code",
   "execution_count": 38,
   "id": "a870d443",
   "metadata": {},
   "outputs": [],
   "source": [
    "from sklearn.metrics import f1_score"
   ]
  },
  {
   "cell_type": "code",
   "execution_count": 39,
   "id": "c9ed1262",
   "metadata": {},
   "outputs": [
    {
     "name": "stdout",
     "output_type": "stream",
     "text": [
      "0.9257950530035335\n"
     ]
    }
   ],
   "source": [
    "print(f1_score(logPrediction, y_test))"
   ]
  },
  {
   "cell_type": "code",
   "execution_count": 40,
   "id": "662a2059",
   "metadata": {},
   "outputs": [
    {
     "name": "stdout",
     "output_type": "stream",
     "text": [
      "0.9257950530035335\n"
     ]
    }
   ],
   "source": [
    "print(f1_score(svmPrediction, y_test))"
   ]
  },
  {
   "cell_type": "code",
   "execution_count": 41,
   "id": "538f4294",
   "metadata": {},
   "outputs": [
    {
     "name": "stdout",
     "output_type": "stream",
     "text": [
      "0.9369042215161143\n"
     ]
    }
   ],
   "source": [
    "print(f1_score(mlpPrediction, y_test))"
   ]
  },
  {
   "cell_type": "markdown",
   "id": "039a59d8",
   "metadata": {},
   "source": [
    "The F-score compares each model's prediction with the y_test, calculating the precision & recall to give us a better insight into each model's accuracy.\n",
    "\n",
    "Each F-score is quite good. Both the Logistic Regression classifier & C-Support Vector Classification model have identical results while the Multi-layer Perceptron Nueral Network performed slightly better."
   ]
  }
 ],
 "metadata": {
  "kernelspec": {
   "display_name": "Python 3 (ipykernel)",
   "language": "python",
   "name": "python3"
  },
  "language_info": {
   "codemirror_mode": {
    "name": "ipython",
    "version": 3
   },
   "file_extension": ".py",
   "mimetype": "text/x-python",
   "name": "python",
   "nbconvert_exporter": "python",
   "pygments_lexer": "ipython3",
   "version": "3.9.6"
  }
 },
 "nbformat": 4,
 "nbformat_minor": 5
}
