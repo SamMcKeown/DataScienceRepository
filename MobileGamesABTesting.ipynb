{
 "cells": [
  {
   "cell_type": "markdown",
   "id": "95fb9238",
   "metadata": {},
   "source": [
    "[Reference: DataCamp Project: Mobile Games A/B Testing with Cookie Cats](https://projects.datacamp.com/projects/184)"
   ]
  },
  {
   "cell_type": "markdown",
   "id": "1b9101ae",
   "metadata": {},
   "source": [
    "### 1. Getting Started"
   ]
  },
  {
   "cell_type": "code",
   "execution_count": 1,
   "id": "cf563823",
   "metadata": {},
   "outputs": [],
   "source": [
    "import numpy as np\n",
    "import pandas as pd\n",
    "%config InlineBackend.figure_format = 'retina'"
   ]
  },
  {
   "cell_type": "code",
   "execution_count": 2,
   "id": "84a71b94",
   "metadata": {},
   "outputs": [
    {
     "data": {
      "text/plain": [
       "(90189, 5)"
      ]
     },
     "execution_count": 2,
     "metadata": {},
     "output_type": "execute_result"
    }
   ],
   "source": [
    "data=pd.read_csv('./data/cookie_cats.csv')\n",
    "data.shape"
   ]
  },
  {
   "cell_type": "code",
   "execution_count": 3,
   "id": "6be0dbcb",
   "metadata": {},
   "outputs": [
    {
     "data": {
      "text/html": [
       "<div>\n",
       "<style scoped>\n",
       "    .dataframe tbody tr th:only-of-type {\n",
       "        vertical-align: middle;\n",
       "    }\n",
       "\n",
       "    .dataframe tbody tr th {\n",
       "        vertical-align: top;\n",
       "    }\n",
       "\n",
       "    .dataframe thead th {\n",
       "        text-align: right;\n",
       "    }\n",
       "</style>\n",
       "<table border=\"1\" class=\"dataframe\">\n",
       "  <thead>\n",
       "    <tr style=\"text-align: right;\">\n",
       "      <th></th>\n",
       "      <th>userid</th>\n",
       "      <th>version</th>\n",
       "      <th>sum_gamerounds</th>\n",
       "      <th>retention_1</th>\n",
       "      <th>retention_7</th>\n",
       "    </tr>\n",
       "  </thead>\n",
       "  <tbody>\n",
       "    <tr>\n",
       "      <th>0</th>\n",
       "      <td>116</td>\n",
       "      <td>gate_30</td>\n",
       "      <td>3</td>\n",
       "      <td>False</td>\n",
       "      <td>False</td>\n",
       "    </tr>\n",
       "    <tr>\n",
       "      <th>1</th>\n",
       "      <td>337</td>\n",
       "      <td>gate_30</td>\n",
       "      <td>38</td>\n",
       "      <td>True</td>\n",
       "      <td>False</td>\n",
       "    </tr>\n",
       "    <tr>\n",
       "      <th>2</th>\n",
       "      <td>377</td>\n",
       "      <td>gate_40</td>\n",
       "      <td>165</td>\n",
       "      <td>True</td>\n",
       "      <td>False</td>\n",
       "    </tr>\n",
       "    <tr>\n",
       "      <th>3</th>\n",
       "      <td>483</td>\n",
       "      <td>gate_40</td>\n",
       "      <td>1</td>\n",
       "      <td>False</td>\n",
       "      <td>False</td>\n",
       "    </tr>\n",
       "    <tr>\n",
       "      <th>4</th>\n",
       "      <td>488</td>\n",
       "      <td>gate_40</td>\n",
       "      <td>179</td>\n",
       "      <td>True</td>\n",
       "      <td>True</td>\n",
       "    </tr>\n",
       "  </tbody>\n",
       "</table>\n",
       "</div>"
      ],
      "text/plain": [
       "   userid  version  sum_gamerounds  retention_1  retention_7\n",
       "0     116  gate_30               3        False        False\n",
       "1     337  gate_30              38         True        False\n",
       "2     377  gate_40             165         True        False\n",
       "3     483  gate_40               1        False        False\n",
       "4     488  gate_40             179         True         True"
      ]
     },
     "execution_count": 3,
     "metadata": {},
     "output_type": "execute_result"
    }
   ],
   "source": [
    "data.head()"
   ]
  },
  {
   "cell_type": "markdown",
   "id": "1dc27e1e",
   "metadata": {},
   "source": [
    "### 2. AB Test Data"
   ]
  },
  {
   "cell_type": "code",
   "execution_count": 4,
   "id": "ec956fc8",
   "metadata": {},
   "outputs": [
    {
     "data": {
      "text/plain": [
       "version\n",
       "gate_30    44700\n",
       "gate_40    45489\n",
       "Name: userid, dtype: int64"
      ]
     },
     "execution_count": 4,
     "metadata": {},
     "output_type": "execute_result"
    }
   ],
   "source": [
    "## Count the number of players in each AB group\n",
    "data.groupby('version')['userid'].count()"
   ]
  },
  {
   "cell_type": "markdown",
   "id": "ba4f1c72",
   "metadata": {},
   "source": [
    "### 3. Distribution"
   ]
  },
  {
   "cell_type": "code",
   "execution_count": 5,
   "id": "be355932",
   "metadata": {},
   "outputs": [
    {
     "data": {
      "text/plain": [
       "sum_gamerounds\n",
       "271    21\n",
       "185    42\n",
       "174    62\n",
       "701     2\n",
       "326    14\n",
       "Name: userid, dtype: int64"
      ]
     },
     "execution_count": 5,
     "metadata": {},
     "output_type": "execute_result"
    }
   ],
   "source": [
    "## Count the number of players for number of game rounds played\n",
    "data_plot = data.groupby('sum_gamerounds')['userid'].count()\n",
    "\n",
    "## View\n",
    "data_plot.sample(5)"
   ]
  },
  {
   "cell_type": "code",
   "execution_count": 6,
   "id": "6317b475",
   "metadata": {},
   "outputs": [
    {
     "data": {
      "text/html": [
       "<div>\n",
       "<style scoped>\n",
       "    .dataframe tbody tr th:only-of-type {\n",
       "        vertical-align: middle;\n",
       "    }\n",
       "\n",
       "    .dataframe tbody tr th {\n",
       "        vertical-align: top;\n",
       "    }\n",
       "\n",
       "    .dataframe thead th {\n",
       "        text-align: right;\n",
       "    }\n",
       "</style>\n",
       "<table border=\"1\" class=\"dataframe\">\n",
       "  <thead>\n",
       "    <tr style=\"text-align: right;\">\n",
       "      <th></th>\n",
       "      <th>userid</th>\n",
       "      <th>version</th>\n",
       "      <th>sum_gamerounds</th>\n",
       "      <th>retention_1</th>\n",
       "      <th>retention_7</th>\n",
       "    </tr>\n",
       "  </thead>\n",
       "  <tbody>\n",
       "    <tr>\n",
       "      <th>8752</th>\n",
       "      <td>961892</td>\n",
       "      <td>gate_30</td>\n",
       "      <td>608</td>\n",
       "      <td>True</td>\n",
       "      <td>True</td>\n",
       "    </tr>\n",
       "    <tr>\n",
       "      <th>48805</th>\n",
       "      <td>5409496</td>\n",
       "      <td>gate_40</td>\n",
       "      <td>608</td>\n",
       "      <td>True</td>\n",
       "      <td>True</td>\n",
       "    </tr>\n",
       "  </tbody>\n",
       "</table>\n",
       "</div>"
      ],
      "text/plain": [
       "        userid  version  sum_gamerounds  retention_1  retention_7\n",
       "8752    961892  gate_30             608         True         True\n",
       "48805  5409496  gate_40             608         True         True"
      ]
     },
     "execution_count": 6,
     "metadata": {},
     "output_type": "execute_result"
    }
   ],
   "source": [
    "## Example\n",
    "data[data['sum_gamerounds']==608]"
   ]
  },
  {
   "cell_type": "code",
   "execution_count": 7,
   "id": "7fef98a2",
   "metadata": {},
   "outputs": [
    {
     "data": {
      "text/plain": [
       "sum_gamerounds\n",
       "0    3994\n",
       "1    5538\n",
       "2    4606\n",
       "3    3958\n",
       "4    3629\n",
       "Name: userid, dtype: int64"
      ]
     },
     "execution_count": 7,
     "metadata": {},
     "output_type": "execute_result"
    }
   ],
   "source": [
    "## Players that played between 0 & 5 games\n",
    "data_plot.head(5)"
   ]
  },
  {
   "cell_type": "code",
   "execution_count": 8,
   "id": "b962d006",
   "metadata": {},
   "outputs": [
    {
     "data": {
      "text/plain": [
       "Text(0.5, 1.0, 'Distribution')"
      ]
     },
     "execution_count": 8,
     "metadata": {},
     "output_type": "execute_result"
    },
    {
     "data": {
      "image/png": "[encoded data removed]",
      "text/plain": [
       "<Figure size 432x288 with 1 Axes>"
      ]
     },
     "metadata": {
      "image/png": {
       "height": 282,
       "width": 385
      },
      "needs_background": "light"
     },
     "output_type": "display_data"
    }
   ],
   "source": [
    "## Plot the distribution of players that played between 0 & 100 games\n",
    "ax = data_plot.head(100).plot(x='sum_gamerounds', y='userid', kind='hist')\n",
    "ax.set_xlabel('Game Rounds', size=12)\n",
    "ax.set_ylabel('User Count', size=12)\n",
    "ax.set_title('Distribution', size=16)"
   ]
  },
  {
   "cell_type": "markdown",
   "id": "2d8409c7",
   "metadata": {},
   "source": [
    "### 4. Overall 1-Day Retention\n",
    "\n",
    "- did the player come back and play 1 day after installing?"
   ]
  },
  {
   "cell_type": "code",
   "execution_count": 9,
   "id": "da6c331f",
   "metadata": {},
   "outputs": [
    {
     "data": {
      "text/html": [
       "<div>\n",
       "<style scoped>\n",
       "    .dataframe tbody tr th:only-of-type {\n",
       "        vertical-align: middle;\n",
       "    }\n",
       "\n",
       "    .dataframe tbody tr th {\n",
       "        vertical-align: top;\n",
       "    }\n",
       "\n",
       "    .dataframe thead th {\n",
       "        text-align: right;\n",
       "    }\n",
       "</style>\n",
       "<table border=\"1\" class=\"dataframe\">\n",
       "  <thead>\n",
       "    <tr style=\"text-align: right;\">\n",
       "      <th></th>\n",
       "      <th>userid</th>\n",
       "      <th>version</th>\n",
       "      <th>sum_gamerounds</th>\n",
       "      <th>retention_1</th>\n",
       "      <th>retention_7</th>\n",
       "    </tr>\n",
       "  </thead>\n",
       "  <tbody>\n",
       "    <tr>\n",
       "      <th>0</th>\n",
       "      <td>116</td>\n",
       "      <td>gate_30</td>\n",
       "      <td>3</td>\n",
       "      <td>False</td>\n",
       "      <td>False</td>\n",
       "    </tr>\n",
       "    <tr>\n",
       "      <th>1</th>\n",
       "      <td>337</td>\n",
       "      <td>gate_30</td>\n",
       "      <td>38</td>\n",
       "      <td>True</td>\n",
       "      <td>False</td>\n",
       "    </tr>\n",
       "    <tr>\n",
       "      <th>2</th>\n",
       "      <td>377</td>\n",
       "      <td>gate_40</td>\n",
       "      <td>165</td>\n",
       "      <td>True</td>\n",
       "      <td>False</td>\n",
       "    </tr>\n",
       "  </tbody>\n",
       "</table>\n",
       "</div>"
      ],
      "text/plain": [
       "   userid  version  sum_gamerounds  retention_1  retention_7\n",
       "0     116  gate_30               3        False        False\n",
       "1     337  gate_30              38         True        False\n",
       "2     377  gate_40             165         True        False"
      ]
     },
     "execution_count": 9,
     "metadata": {},
     "output_type": "execute_result"
    }
   ],
   "source": [
    "data.head(3)"
   ]
  },
  {
   "cell_type": "code",
   "execution_count": 10,
   "id": "adefd1e7",
   "metadata": {},
   "outputs": [
    {
     "data": {
      "text/plain": [
       "90189"
      ]
     },
     "execution_count": 10,
     "metadata": {},
     "output_type": "execute_result"
    }
   ],
   "source": [
    "## Total number of values for column\n",
    "data['retention_1'].count()"
   ]
  },
  {
   "cell_type": "code",
   "execution_count": 11,
   "id": "5492a065",
   "metadata": {},
   "outputs": [
    {
     "data": {
      "text/plain": [
       "40153"
      ]
     },
     "execution_count": 11,
     "metadata": {},
     "output_type": "execute_result"
    }
   ],
   "source": [
    "## Counts all True values (True = 1, False = 0)\n",
    "data['retention_1'].sum()"
   ]
  },
  {
   "cell_type": "code",
   "execution_count": 12,
   "id": "2d5564a0",
   "metadata": {},
   "outputs": [
    {
     "data": {
      "text/plain": [
       "0.445"
      ]
     },
     "execution_count": 12,
     "metadata": {},
     "output_type": "execute_result"
    }
   ],
   "source": [
    "## Percentage of users that came back the day after they installed\n",
    "round(data['retention_1'].sum() / data['retention_1'].count(), 3)"
   ]
  },
  {
   "cell_type": "code",
   "execution_count": 13,
   "id": "64cf1349",
   "metadata": {},
   "outputs": [
    {
     "data": {
      "text/plain": [
       "0.4452095044850259"
      ]
     },
     "execution_count": 13,
     "metadata": {},
     "output_type": "execute_result"
    }
   ],
   "source": [
    "## Mean will return the same (sums the values & divides by the total number of values)\n",
    "data['retention_1'].mean()"
   ]
  },
  {
   "cell_type": "markdown",
   "id": "0c10863a",
   "metadata": {},
   "source": [
    "### 5. Overall 1-Day Retention by AB Group"
   ]
  },
  {
   "cell_type": "code",
   "execution_count": 14,
   "id": "eb62f33e",
   "metadata": {},
   "outputs": [
    {
     "data": {
      "text/plain": [
       "version\n",
       "gate_30    20034\n",
       "gate_40    20119\n",
       "Name: retention_1, dtype: int64"
      ]
     },
     "execution_count": 14,
     "metadata": {},
     "output_type": "execute_result"
    }
   ],
   "source": [
    "## Number of users that came back the day after they installed by group \n",
    "data.groupby('version')['retention_1'].sum()"
   ]
  },
  {
   "cell_type": "code",
   "execution_count": 15,
   "id": "b3907186",
   "metadata": {},
   "outputs": [
    {
     "data": {
      "text/plain": [
       "version\n",
       "gate_30    44700\n",
       "gate_40    45489\n",
       "Name: userid, dtype: int64"
      ]
     },
     "execution_count": 15,
     "metadata": {},
     "output_type": "execute_result"
    }
   ],
   "source": [
    "## Number of players per group\n",
    "data.groupby('version')['userid'].count()"
   ]
  },
  {
   "cell_type": "code",
   "execution_count": 16,
   "id": "096db36b",
   "metadata": {},
   "outputs": [
    {
     "data": {
      "text/plain": [
       "version\n",
       "gate_30    44.8\n",
       "gate_40    44.2\n",
       "dtype: float64"
      ]
     },
     "execution_count": 16,
     "metadata": {},
     "output_type": "execute_result"
    }
   ],
   "source": [
    "## Calculates 1-day retention for each group\n",
    "round(data.groupby('version')['retention_1'].sum() / data.groupby('version')['userid'].count(), 3) * 100"
   ]
  },
  {
   "cell_type": "markdown",
   "id": "34fdd89e",
   "metadata": {},
   "source": [
    "### 6. Bootstrap Analysis of 1-Day Retention"
   ]
  },
  {
   "cell_type": "code",
   "execution_count": 17,
   "id": "4ff6d640",
   "metadata": {},
   "outputs": [],
   "source": [
    "## Perform 500 bootstrap replications & append them to boot_1day list\n",
    "boot_1day = []\n",
    "for i in range(500):\n",
    "    boot_mean = data.sample(frac=1, replace=True).groupby('version')['retention_1'].mean()\n",
    "    boot_1day.append(boot_mean)"
   ]
  },
  {
   "cell_type": "code",
   "execution_count": 18,
   "id": "29702772",
   "metadata": {},
   "outputs": [
    {
     "data": {
      "text/plain": [
       "version\n",
       "gate_30    0.446752\n",
       "gate_40    0.443607\n",
       "Name: retention_1, dtype: float64"
      ]
     },
     "execution_count": 18,
     "metadata": {},
     "output_type": "execute_result"
    }
   ],
   "source": [
    "## View 1 bootstrap replication\n",
    "boot_mean"
   ]
  },
  {
   "cell_type": "code",
   "execution_count": 19,
   "id": "f2976090",
   "metadata": {},
   "outputs": [
    {
     "data": {
      "text/plain": [
       "(500, 2)"
      ]
     },
     "execution_count": 19,
     "metadata": {},
     "output_type": "execute_result"
    }
   ],
   "source": [
    "## Transform boot_1day list to a pandas DataFrame\n",
    "boot_1day = pd.DataFrame(boot_1day)\n",
    "\n",
    "## Shape\n",
    "boot_1day.shape"
   ]
  },
  {
   "cell_type": "code",
   "execution_count": 20,
   "id": "819af303",
   "metadata": {},
   "outputs": [
    {
     "data": {
      "text/html": [
       "<div>\n",
       "<style scoped>\n",
       "    .dataframe tbody tr th:only-of-type {\n",
       "        vertical-align: middle;\n",
       "    }\n",
       "\n",
       "    .dataframe tbody tr th {\n",
       "        vertical-align: top;\n",
       "    }\n",
       "\n",
       "    .dataframe thead th {\n",
       "        text-align: right;\n",
       "    }\n",
       "</style>\n",
       "<table border=\"1\" class=\"dataframe\">\n",
       "  <thead>\n",
       "    <tr style=\"text-align: right;\">\n",
       "      <th>version</th>\n",
       "      <th>gate_30</th>\n",
       "      <th>gate_40</th>\n",
       "    </tr>\n",
       "  </thead>\n",
       "  <tbody>\n",
       "    <tr>\n",
       "      <th>retention_1</th>\n",
       "      <td>0.452149</td>\n",
       "      <td>0.445077</td>\n",
       "    </tr>\n",
       "    <tr>\n",
       "      <th>retention_1</th>\n",
       "      <td>0.443192</td>\n",
       "      <td>0.440721</td>\n",
       "    </tr>\n",
       "    <tr>\n",
       "      <th>retention_1</th>\n",
       "      <td>0.449050</td>\n",
       "      <td>0.440525</td>\n",
       "    </tr>\n",
       "  </tbody>\n",
       "</table>\n",
       "</div>"
      ],
      "text/plain": [
       "version       gate_30   gate_40\n",
       "retention_1  0.452149  0.445077\n",
       "retention_1  0.443192  0.440721\n",
       "retention_1  0.449050  0.440525"
      ]
     },
     "execution_count": 20,
     "metadata": {},
     "output_type": "execute_result"
    }
   ],
   "source": [
    "## View\n",
    "boot_1day.head(3)"
   ]
  },
  {
   "cell_type": "code",
   "execution_count": 21,
   "id": "728b5379",
   "metadata": {},
   "outputs": [
    {
     "data": {
      "text/plain": [
       "<AxesSubplot:ylabel='Density'>"
      ]
     },
     "execution_count": 21,
     "metadata": {},
     "output_type": "execute_result"
    },
    {
     "data": {
      "image/png": "[encoded data removed]",
      "text/plain": [
       "<Figure size 432x288 with 1 Axes>"
      ]
     },
     "metadata": {
      "image/png": {
       "height": 248,
       "width": 388
      },
      "needs_background": "light"
     },
     "output_type": "display_data"
    }
   ],
   "source": [
    "## Plot boot_1d DataFrame as a Kernel Density Estimate plot of the bootstrap distributions\n",
    "boot_1day.plot(kind='kde')"
   ]
  },
  {
   "cell_type": "markdown",
   "id": "e7aa5551",
   "metadata": {},
   "source": [
    "### 7. Calulating the Difference between Groups\n",
    "\n",
    "- Calculate the difference between gate_30 & gate_40, divide the difference by gate_40 & multiply by 100 to turn the difference into a percentage"
   ]
  },
  {
   "cell_type": "code",
   "execution_count": 22,
   "id": "df953d31",
   "metadata": {},
   "outputs": [
    {
     "data": {
      "text/html": [
       "<div>\n",
       "<style scoped>\n",
       "    .dataframe tbody tr th:only-of-type {\n",
       "        vertical-align: middle;\n",
       "    }\n",
       "\n",
       "    .dataframe tbody tr th {\n",
       "        vertical-align: top;\n",
       "    }\n",
       "\n",
       "    .dataframe thead th {\n",
       "        text-align: right;\n",
       "    }\n",
       "</style>\n",
       "<table border=\"1\" class=\"dataframe\">\n",
       "  <thead>\n",
       "    <tr style=\"text-align: right;\">\n",
       "      <th>version</th>\n",
       "      <th>gate_30</th>\n",
       "      <th>gate_40</th>\n",
       "    </tr>\n",
       "  </thead>\n",
       "  <tbody>\n",
       "    <tr>\n",
       "      <th>retention_1</th>\n",
       "      <td>0.452149</td>\n",
       "      <td>0.445077</td>\n",
       "    </tr>\n",
       "  </tbody>\n",
       "</table>\n",
       "</div>"
      ],
      "text/plain": [
       "version       gate_30   gate_40\n",
       "retention_1  0.452149  0.445077"
      ]
     },
     "execution_count": 22,
     "metadata": {},
     "output_type": "execute_result"
    }
   ],
   "source": [
    "## Example\n",
    "boot_1day.head(1)"
   ]
  },
  {
   "cell_type": "code",
   "execution_count": 23,
   "id": "eb862637",
   "metadata": {},
   "outputs": [
    {
     "data": {
      "text/plain": [
       "0.009639999999999982"
      ]
     },
     "execution_count": 23,
     "metadata": {},
     "output_type": "execute_result"
    }
   ],
   "source": [
    "## Step 1 - difference between gate_30 & gate_40\n",
    "0.449631 - 0.439991"
   ]
  },
  {
   "cell_type": "code",
   "execution_count": 24,
   "id": "6c4ac6f4",
   "metadata": {},
   "outputs": [
    {
     "data": {
      "text/plain": [
       "0.02190953905875343"
      ]
     },
     "execution_count": 24,
     "metadata": {},
     "output_type": "execute_result"
    }
   ],
   "source": [
    "## Step 2 - divide the difference by gate_40\n",
    "0.009639999999999982 / 0.439991"
   ]
  },
  {
   "cell_type": "code",
   "execution_count": 25,
   "id": "85289379",
   "metadata": {},
   "outputs": [
    {
     "data": {
      "text/plain": [
       "2.190953905875343"
      ]
     },
     "execution_count": 25,
     "metadata": {},
     "output_type": "execute_result"
    }
   ],
   "source": [
    "## Step 3 -  multiply by 100 to turn the difference into a percentage\n",
    "0.02190953905875343 * 100"
   ]
  },
  {
   "cell_type": "code",
   "execution_count": 26,
   "id": "c7ec1794",
   "metadata": {},
   "outputs": [],
   "source": [
    "## Adds a column with the % difference between the two groups\n",
    "boot_1day['difference_between_groups'] = (boot_1day['gate_30'] - boot_1day['gate_40']) /  boot_1day['gate_40'] * 100"
   ]
  },
  {
   "cell_type": "code",
   "execution_count": 27,
   "id": "ba58aafa",
   "metadata": {},
   "outputs": [
    {
     "data": {
      "text/html": [
       "<div>\n",
       "<style scoped>\n",
       "    .dataframe tbody tr th:only-of-type {\n",
       "        vertical-align: middle;\n",
       "    }\n",
       "\n",
       "    .dataframe tbody tr th {\n",
       "        vertical-align: top;\n",
       "    }\n",
       "\n",
       "    .dataframe thead th {\n",
       "        text-align: right;\n",
       "    }\n",
       "</style>\n",
       "<table border=\"1\" class=\"dataframe\">\n",
       "  <thead>\n",
       "    <tr style=\"text-align: right;\">\n",
       "      <th>version</th>\n",
       "      <th>gate_30</th>\n",
       "      <th>gate_40</th>\n",
       "      <th>difference_between_groups</th>\n",
       "    </tr>\n",
       "  </thead>\n",
       "  <tbody>\n",
       "    <tr>\n",
       "      <th>retention_1</th>\n",
       "      <td>0.452149</td>\n",
       "      <td>0.445077</td>\n",
       "      <td>1.588873</td>\n",
       "    </tr>\n",
       "    <tr>\n",
       "      <th>retention_1</th>\n",
       "      <td>0.443192</td>\n",
       "      <td>0.440721</td>\n",
       "      <td>0.560778</td>\n",
       "    </tr>\n",
       "    <tr>\n",
       "      <th>retention_1</th>\n",
       "      <td>0.449050</td>\n",
       "      <td>0.440525</td>\n",
       "      <td>1.935333</td>\n",
       "    </tr>\n",
       "  </tbody>\n",
       "</table>\n",
       "</div>"
      ],
      "text/plain": [
       "version       gate_30   gate_40  difference_between_groups\n",
       "retention_1  0.452149  0.445077                   1.588873\n",
       "retention_1  0.443192  0.440721                   0.560778\n",
       "retention_1  0.449050  0.440525                   1.935333"
      ]
     },
     "execution_count": 27,
     "metadata": {},
     "output_type": "execute_result"
    }
   ],
   "source": [
    "## View\n",
    "boot_1day.head(3)"
   ]
  },
  {
   "cell_type": "code",
   "execution_count": 28,
   "id": "af7061ba",
   "metadata": {},
   "outputs": [
    {
     "data": {
      "text/plain": [
       "Text(0.5, 0, '% difference in means')"
      ]
     },
     "execution_count": 28,
     "metadata": {},
     "output_type": "execute_result"
    },
    {
     "data": {
      "image/png": "[encoded data removed]",
      "text/plain": [
       "<Figure size 432x288 with 1 Axes>"
      ]
     },
     "metadata": {
      "image/png": {
       "height": 264,
       "width": 385
      },
      "needs_background": "light"
     },
     "output_type": "display_data"
    }
   ],
   "source": [
    "## Plots the Bootstrap & difference between the two groups\n",
    "ax = boot_1day['difference_between_groups'].plot(kind = 'kde', color='red')\n",
    "ax.set_xlabel('% difference in means', size=12)"
   ]
  },
  {
   "cell_type": "markdown",
   "id": "98b6e1b5",
   "metadata": {},
   "source": [
    "- the most likely % difference is around 1% - 2%\n",
    "\n",
    "- most of the distribution is above 0%, in favor of a group A (gate 30)"
   ]
  },
  {
   "cell_type": "markdown",
   "id": "6b1a3913",
   "metadata": {},
   "source": [
    "### 8. The Probability of a Difference\n",
    "\n",
    "- Calculate the probability that a gate at level 30 results in higher 1-day retention"
   ]
  },
  {
   "cell_type": "code",
   "execution_count": 29,
   "id": "45bab2ba",
   "metadata": {},
   "outputs": [
    {
     "data": {
      "text/html": [
       "<div>\n",
       "<style scoped>\n",
       "    .dataframe tbody tr th:only-of-type {\n",
       "        vertical-align: middle;\n",
       "    }\n",
       "\n",
       "    .dataframe tbody tr th {\n",
       "        vertical-align: top;\n",
       "    }\n",
       "\n",
       "    .dataframe thead th {\n",
       "        text-align: right;\n",
       "    }\n",
       "</style>\n",
       "<table border=\"1\" class=\"dataframe\">\n",
       "  <thead>\n",
       "    <tr style=\"text-align: right;\">\n",
       "      <th>version</th>\n",
       "      <th>gate_30</th>\n",
       "      <th>gate_40</th>\n",
       "      <th>difference_between_groups</th>\n",
       "    </tr>\n",
       "  </thead>\n",
       "  <tbody>\n",
       "    <tr>\n",
       "      <th>retention_1</th>\n",
       "      <td>0.452149</td>\n",
       "      <td>0.445077</td>\n",
       "      <td>1.588873</td>\n",
       "    </tr>\n",
       "    <tr>\n",
       "      <th>retention_1</th>\n",
       "      <td>0.443192</td>\n",
       "      <td>0.440721</td>\n",
       "      <td>0.560778</td>\n",
       "    </tr>\n",
       "    <tr>\n",
       "      <th>retention_1</th>\n",
       "      <td>0.449050</td>\n",
       "      <td>0.440525</td>\n",
       "      <td>1.935333</td>\n",
       "    </tr>\n",
       "  </tbody>\n",
       "</table>\n",
       "</div>"
      ],
      "text/plain": [
       "version       gate_30   gate_40  difference_between_groups\n",
       "retention_1  0.452149  0.445077                   1.588873\n",
       "retention_1  0.443192  0.440721                   0.560778\n",
       "retention_1  0.449050  0.440525                   1.935333"
      ]
     },
     "execution_count": 29,
     "metadata": {},
     "output_type": "execute_result"
    }
   ],
   "source": [
    "boot_1day.head(3)"
   ]
  },
  {
   "cell_type": "code",
   "execution_count": 30,
   "id": "cf1f8f58",
   "metadata": {},
   "outputs": [
    {
     "data": {
      "text/plain": [
       "478"
      ]
     },
     "execution_count": 30,
     "metadata": {},
     "output_type": "execute_result"
    }
   ],
   "source": [
    "## Number of values above 0.0 (using sum)\n",
    "(boot_1day['difference_between_groups'] > 0).sum()"
   ]
  },
  {
   "cell_type": "code",
   "execution_count": 31,
   "id": "0902835d",
   "metadata": {},
   "outputs": [
    {
     "data": {
      "text/plain": [
       "0.956"
      ]
     },
     "execution_count": 31,
     "metadata": {},
     "output_type": "execute_result"
    }
   ],
   "source": [
    "## Percantage of values above 0.0 (using means) - Calculates the probability\n",
    "(boot_1day['difference_between_groups'] > 0).mean()"
   ]
  },
  {
   "cell_type": "code",
   "execution_count": 32,
   "id": "7fc96bd6",
   "metadata": {},
   "outputs": [
    {
     "data": {
      "text/plain": [
       "0.956"
      ]
     },
     "execution_count": 32,
     "metadata": {},
     "output_type": "execute_result"
    }
   ],
   "source": [
    "## Returns the probability of greater 1-day retention when the gate is level 30\n",
    "probability = (boot_1day['difference_between_groups'] > 0).sum() / len(boot_1day)\n",
    "probability"
   ]
  },
  {
   "cell_type": "code",
   "execution_count": 33,
   "id": "fc13d4d3",
   "metadata": {},
   "outputs": [
    {
     "data": {
      "text/plain": [
       "'95.6%'"
      ]
     },
     "execution_count": 33,
     "metadata": {},
     "output_type": "execute_result"
    }
   ],
   "source": [
    "## Probability percentage\n",
    "'{:.1%}'.format(probability)"
   ]
  },
  {
   "cell_type": "markdown",
   "id": "e538da44",
   "metadata": {},
   "source": [
    "- bootstrap analysis:\n",
    "\n",
    "- there is a high probability that 1-day retention is better when the gate is at level 30 \n",
    "\n",
    "- NOTE that players have only been playing the game for ONE DAY & are very unlikely to have reached level 30, let alone level 40\n",
    "\n",
    "- thus, player experience is unlikely to have been influenced by either gate\n",
    "\n",
    "- however players who have recorded more than a weeks worth of playtime are more likely to have reached level 40 & beyond\n",
    "\n",
    "- it makes much more sense to analsye 7-day retention"
   ]
  },
  {
   "cell_type": "markdown",
   "id": "792006b6",
   "metadata": {},
   "source": [
    "### 9. Overall 7-Day Retention by AB group\n",
    "\n",
    "- did the player come back and play 7 days after installing?"
   ]
  },
  {
   "cell_type": "code",
   "execution_count": 34,
   "id": "b9e712d8",
   "metadata": {},
   "outputs": [
    {
     "data": {
      "text/plain": [
       "version\n",
       "gate_30    8502\n",
       "gate_40    8279\n",
       "Name: retention_7, dtype: int64"
      ]
     },
     "execution_count": 34,
     "metadata": {},
     "output_type": "execute_result"
    }
   ],
   "source": [
    "## Number of users that came back the day after they installed by group \n",
    "data.groupby('version')['retention_7'].sum()"
   ]
  },
  {
   "cell_type": "code",
   "execution_count": 35,
   "id": "4225e4eb",
   "metadata": {},
   "outputs": [
    {
     "data": {
      "text/plain": [
       "version\n",
       "gate_30    19.0\n",
       "gate_40    18.2\n",
       "dtype: float64"
      ]
     },
     "execution_count": 35,
     "metadata": {},
     "output_type": "execute_result"
    }
   ],
   "source": [
    "## Calculates 7-day retention for each group\n",
    "round(data.groupby('version')['retention_7'].sum() / data.groupby('version')['userid'].count(), 3) * 100"
   ]
  },
  {
   "cell_type": "markdown",
   "id": "471c1417",
   "metadata": {},
   "source": [
    "- similar to 1-day retention, 7-day retention is slightly lower (18.2%) when the gate is at level 40 than when the gate is at level 30 (19%)\n",
    "\n",
    "- this is possibly due to players having more time to reach the first gate at level 30\n",
    "\n",
    "- it is also worth noting that 7-day retention is much lower than 1-day retention: that is, less people play the game one week after installation"
   ]
  },
  {
   "cell_type": "markdown",
   "id": "dc6f0ecb",
   "metadata": {},
   "source": [
    "### 10. Bootstrap Analysis of 7-Day Retention"
   ]
  },
  {
   "cell_type": "code",
   "execution_count": null,
   "id": "baf42f69",
   "metadata": {},
   "outputs": [],
   "source": [
    "## Perform 500 bootstrap replications & append them to boot_7day list\n",
    "boot_7day = []\n",
    "for i in range(500):\n",
    "    boot_mean = data.sample(frac=1, replace=True).groupby('version')['retention_7'].mean()\n",
    "    boot_7day.append(boot_mean)"
   ]
  },
  {
   "cell_type": "code",
   "execution_count": null,
   "id": "f1ae3e4c",
   "metadata": {},
   "outputs": [],
   "source": [
    "## View a bootstrap replication\n",
    "boot_mean"
   ]
  },
  {
   "cell_type": "code",
   "execution_count": null,
   "id": "756cd631",
   "metadata": {},
   "outputs": [],
   "source": [
    "## Transform boot_1day list to a pandas DataFrame\n",
    "boot_7day = pd.DataFrame(boot_7day)\n",
    "\n",
    "## Shape\n",
    "boot_7day.shape"
   ]
  },
  {
   "cell_type": "code",
   "execution_count": null,
   "id": "9c487ea0",
   "metadata": {},
   "outputs": [],
   "source": [
    "## Adds a column with the % difference between the two groups\n",
    "boot_7day['difference_between_groups'] = (boot_7day['gate_30'] - boot_7day['gate_40']) /  boot_7day['gate_40'] * 100"
   ]
  },
  {
   "cell_type": "code",
   "execution_count": null,
   "id": "33652d96",
   "metadata": {},
   "outputs": [],
   "source": [
    "## View\n",
    "boot_7day.head(3)"
   ]
  },
  {
   "cell_type": "code",
   "execution_count": null,
   "id": "4953418b",
   "metadata": {},
   "outputs": [],
   "source": [
    "## Plots the Bootstrap & difference between the two groups\n",
    "ax = boot_7day['difference_between_groups'].plot(kind = 'kde', color='red')\n",
    "ax.set_xlabel('% difference in means', size=12)"
   ]
  },
  {
   "cell_type": "markdown",
   "id": "069dbd19",
   "metadata": {},
   "source": [
    "- the most likely % difference is around 1% - 5%\n",
    "\n",
    "- most of the distribution is above 0%, in favor of a group A (gate 30)"
   ]
  },
  {
   "cell_type": "code",
   "execution_count": null,
   "id": "eccf348e",
   "metadata": {},
   "outputs": [],
   "source": [
    "## Returns the probability of greater 1-day retention when the gate is level 30\n",
    "probability = (boot_7day['difference_between_groups'] > 0).sum() / len(boot_1day)\n",
    "probability"
   ]
  },
  {
   "cell_type": "code",
   "execution_count": null,
   "id": "331b0bbd",
   "metadata": {},
   "outputs": [],
   "source": [
    "## Probability percentage\n",
    "'{:.1%}'.format(probability)"
   ]
  },
  {
   "cell_type": "markdown",
   "id": "e743037d",
   "metadata": {},
   "source": [
    "- bootstrap analysis:\n",
    "\n",
    "- clear evidence that 7-day retention is higher when the gate is at level 30\n",
    "\n",
    "- to keep player retention high, for both 1-day & 7-day rentention, the gate should remain at level 30\n",
    "\n",
    "- by forcing players to take a break from the game when they reach a gate 30, their enjoyment of the game can be prolonged\n",
    "\n",
    "- when the gate is at level 40, fewer players make it this far, as they are likely to have quit the game as a result of boredom"
   ]
  }
 ],
 "metadata": {
  "kernelspec": {
   "display_name": "Python 3 (ipykernel)",
   "language": "python",
   "name": "python3"
  },
  "language_info": {
   "codemirror_mode": {
    "name": "ipython",
    "version": 3
   },
   "file_extension": ".py",
   "mimetype": "text/x-python",
   "name": "python",
   "nbconvert_exporter": "python",
   "pygments_lexer": "ipython3",
   "version": "3.9.6"
  }
 },
 "nbformat": 4,
 "nbformat_minor": 5
}
