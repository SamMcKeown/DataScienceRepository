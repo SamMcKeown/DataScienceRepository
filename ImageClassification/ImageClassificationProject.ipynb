{
 "cells": [
  {
   "cell_type": "markdown",
   "id": "8e8e4601",
   "metadata": {},
   "source": [
    "### Convolutional Neural Network\n",
    "\n",
    "A specialised type of neural network model designed for working with two-dimensional image data.\n",
    "\n",
    "Central to the neural network is the `convolutional layer`."
   ]
  },
  {
   "cell_type": "markdown",
   "id": "4479c714",
   "metadata": {},
   "source": [
    "### Sections <a class=\"anchor\" id=\"sections\"></a>\n",
    "- [1. Getting Started](#section1)\n",
    "-  [2. Build A DataFrame](#section2)\n",
    "    - [2.1 Retrieve image filepaths](#section2.1)\n",
    "    - [2.2 Retrieve image labels](#section2.2)\n",
    "    - [2.3 Create a panda series](#section2.3)\n",
    "    - [2.4 Create DataFrame](#section2.4)\n",
    "- [3. Train, test split](#section3)\n",
    "- [4. Load image data](#section4)\n",
    "    - [4.1 Image data augmentation](#section4.1)\n",
    "    - [4.2 Image flow](#section4.2)\n",
    "- [5. Training the model](#section5)\n",
    "    - [5.1 Input layer](#section5.1)\n",
    "    - [5.2 Convolutional layer](#section5.2)\n",
    "    - [5.3 Pooling layer](#section5.3)\n",
    "    - [5.4 Output Tensor](#section5.4)\n",
    "    - [5.5 Flatten output](#section5.5)\n",
    "    - [5.6 Global average pooling](#section5.6)\n",
    "    - [5.7 Dense layer](#section5.7)     \n",
    "-  [6. Create model](#section6)\n",
    "    -  [6.1 Compile model](#section6.1)\n",
    "    -  [6.2 Fit model](#section6.2)\n",
    "-  [7. Evaluate results](#section7)\n",
    "    -  [7.1 Confusion matrix](#section7.1)\n",
    "    -  [7.2 Classification report](#section7.2)"
   ]
  },
  {
   "cell_type": "markdown",
   "id": "2effc530",
   "metadata": {},
   "source": [
    "### 1. Getting Started <a class=\"anchor\" id=\"section1\"></a>\n",
    "\n",
    "`os.listdir()`"
   ]
  },
  {
   "cell_type": "code",
   "execution_count": 29,
   "id": "ab062815",
   "metadata": {},
   "outputs": [],
   "source": [
    "import numpy as np\n",
    "import pandas as pd\n",
    "\n",
    "from pathlib import Path\n",
    "import os.path\n",
    "\n",
    "import matplotlib.pyplot as plt\n",
    "import seaborn as sns\n",
    "\n",
    "import tensorflow as tf\n",
    "\n",
    "from sklearn.model_selection import train_test_split\n",
    "from sklearn.metrics import confusion_matrix, classification_report\n",
    "\n",
    "%config InlineBackend.figure_format = 'retina'\n",
    "\n",
    "# Disables unnecessary tensorflow logs\n",
    "os.environ['TF_CPP_MIN_LOG_LEVEL'] = '2'"
   ]
  },
  {
   "cell_type": "code",
   "execution_count": 2,
   "id": "f3737cd2",
   "metadata": {},
   "outputs": [
    {
     "name": "stdout",
     "output_type": "stream",
     "text": [
      "/Users/sam/Desktop/ttt/imageClassification\n",
      "['.DS_Store', 'images', '.ipynb_checkpoints', 'imageClassificationProject.ipynb']\n"
     ]
    }
   ],
   "source": [
    "# Save current working directory to 'cwd'\n",
    "cwd = os.getcwd()\n",
    "print(cwd)\n",
    "\n",
    "# Returns a list containing the names of all entries in the directory given by path\n",
    "files = os.listdir(cwd)\n",
    "print(files)"
   ]
  },
  {
   "cell_type": "markdown",
   "id": "c92fdbc8",
   "metadata": {},
   "source": [
    "### 2. Build a DataFrame <a class=\"anchor\" id=\"section2\"></a>\n",
    "\n",
    "`pathlib.PosixPath`"
   ]
  },
  {
   "cell_type": "code",
   "execution_count": 3,
   "id": "ff07cb88",
   "metadata": {},
   "outputs": [
    {
     "name": "stdout",
     "output_type": "stream",
     "text": [
      "<class 'pathlib.PosixPath'>\n"
     ]
    }
   ],
   "source": [
    "# Define image directory / folder path\n",
    "imageDirectory = Path('images')\n",
    "print(type(imageDirectory))"
   ]
  },
  {
   "cell_type": "markdown",
   "id": "4ba1c747",
   "metadata": {},
   "source": [
    "#### 2.1 Retrieve image filepaths <a class=\"anchor\" id=\"section2.1\"></a>\n",
    "`.glob()`"
   ]
  },
  {
   "cell_type": "code",
   "execution_count": 4,
   "id": "9a0655ca",
   "metadata": {},
   "outputs": [
    {
     "name": "stdout",
     "output_type": "stream",
     "text": [
      "999 \n",
      "\n",
      "images/cat/374.png\n"
     ]
    }
   ],
   "source": [
    "# Returns an array / list containing all filenames in image directory / folder ending '.png'\n",
    "filepaths = list(imageDirectory.glob('**/*.png'))\n",
    "\n",
    "# Check the number of image filepaths\n",
    "print(len(filepaths),'\\n')\n",
    "\n",
    "# View a filepath\n",
    "print(filepaths[1])"
   ]
  },
  {
   "cell_type": "markdown",
   "id": "2bad4751",
   "metadata": {},
   "source": [
    "#### 2.2 Retrieve image labels <a class=\"anchor\" id=\"section2.2\"></a>\n",
    "\n",
    "`os.path.split()` `.map()`"
   ]
  },
  {
   "cell_type": "code",
   "execution_count": 5,
   "id": "d22a78f9",
   "metadata": {},
   "outputs": [
    {
     "name": "stdout",
     "output_type": "stream",
     "text": [
      "('folderName/labelName', 'example.png')\n",
      "('folderName', 'labelName')\n",
      "labelName\n"
     ]
    }
   ],
   "source": [
    "# Filepath example (how do we extract the label?)\n",
    "filepathExample = 'folderName/labelName/example.png'\n",
    "\n",
    "# Using os.path.split()\n",
    "print(os.path.split(filepathExample))\n",
    "\n",
    "# Split this further\n",
    "print(os.path.split(os.path.split(filepathExample)[0]))\n",
    "\n",
    "# Now the label can be isolated (this is how we extract the label)\n",
    "isolatedLabel = os.path.split(os.path.split(filepathExample)[0])[1]\n",
    "print(isolatedLabel)"
   ]
  },
  {
   "cell_type": "code",
   "execution_count": 6,
   "id": "958d6ff7",
   "metadata": {},
   "outputs": [
    {
     "name": "stdout",
     "output_type": "stream",
     "text": [
      "999 \n",
      "\n",
      "cat\n"
     ]
    }
   ],
   "source": [
    "# We can now map a lambda function with the formula used above to our list of image filepaths\n",
    "labels = list(map(lambda x : os.path.split(os.path.split(x)[0])[1], filepaths))\n",
    "\n",
    "# Check the number of labels\n",
    "print(len(labels),'\\n')\n",
    "\n",
    "# View a label\n",
    "print(labels[1])"
   ]
  },
  {
   "cell_type": "markdown",
   "id": "190754f2",
   "metadata": {},
   "source": [
    "#### 2.3 Create a pandas series <a class=\"anchor\" id=\"section2.3\"></a>\n",
    "\n",
    "`pandas.Series`\n",
    "\n",
    "note: `pathlib.PosixPath` objects need to be converted to string dtype before being converted to Series"
   ]
  },
  {
   "cell_type": "code",
   "execution_count": 7,
   "id": "c531d8b3",
   "metadata": {},
   "outputs": [
    {
     "name": "stdout",
     "output_type": "stream",
     "text": [
      "999 \n",
      "\n",
      "2 \n",
      "\n",
      "['cat' 'dog'] \n",
      "\n",
      "dog    500\n",
      "cat    499\n",
      "Name: Label, dtype: int64\n"
     ]
    }
   ],
   "source": [
    "# Returns a one-dimensional ndarray with axis labels\n",
    "filepaths=pd.Series(filepaths, name='Filepath').astype(str)\n",
    "\n",
    "# Number of unique values\n",
    "print(filepaths.nunique(),'\\n')\n",
    "\n",
    "# Returns a one-dimensional ndarray with axis labels\n",
    "labels=pd.Series(labels, name='Label').astype(str)\n",
    "\n",
    "# Number of unique values\n",
    "print(labels.nunique(),'\\n')\n",
    "\n",
    "# Print the unqiue values\n",
    "print(labels.unique(),'\\n')\n",
    "\n",
    "# Print the number count for each unique value\n",
    "print(labels.value_counts())"
   ]
  },
  {
   "cell_type": "markdown",
   "id": "0b245c3d",
   "metadata": {},
   "source": [
    "#### 2.4 Create DataFrame <a class=\"anchor\" id=\"section2.4\"></a>\n",
    "`pandas.concat`"
   ]
  },
  {
   "cell_type": "code",
   "execution_count": 8,
   "id": "3ca60cbf",
   "metadata": {},
   "outputs": [
    {
     "data": {
      "text/html": [
       "<div>\n",
       "<style scoped>\n",
       "    .dataframe tbody tr th:only-of-type {\n",
       "        vertical-align: middle;\n",
       "    }\n",
       "\n",
       "    .dataframe tbody tr th {\n",
       "        vertical-align: top;\n",
       "    }\n",
       "\n",
       "    .dataframe thead th {\n",
       "        text-align: right;\n",
       "    }\n",
       "</style>\n",
       "<table border=\"1\" class=\"dataframe\">\n",
       "  <thead>\n",
       "    <tr style=\"text-align: right;\">\n",
       "      <th></th>\n",
       "      <th>Filepath</th>\n",
       "      <th>Label</th>\n",
       "    </tr>\n",
       "  </thead>\n",
       "  <tbody>\n",
       "    <tr>\n",
       "      <th>0</th>\n",
       "      <td>images/cat/348.png</td>\n",
       "      <td>cat</td>\n",
       "    </tr>\n",
       "    <tr>\n",
       "      <th>1</th>\n",
       "      <td>images/cat/374.png</td>\n",
       "      <td>cat</td>\n",
       "    </tr>\n",
       "    <tr>\n",
       "      <th>2</th>\n",
       "      <td>images/cat/360.png</td>\n",
       "      <td>cat</td>\n",
       "    </tr>\n",
       "    <tr>\n",
       "      <th>3</th>\n",
       "      <td>images/cat/t1.png</td>\n",
       "      <td>cat</td>\n",
       "    </tr>\n",
       "    <tr>\n",
       "      <th>4</th>\n",
       "      <td>images/cat/t16.png</td>\n",
       "      <td>cat</td>\n",
       "    </tr>\n",
       "  </tbody>\n",
       "</table>\n",
       "</div>"
      ],
      "text/plain": [
       "             Filepath Label\n",
       "0  images/cat/348.png   cat\n",
       "1  images/cat/374.png   cat\n",
       "2  images/cat/360.png   cat\n",
       "3   images/cat/t1.png   cat\n",
       "4  images/cat/t16.png   cat"
      ]
     },
     "metadata": {},
     "output_type": "display_data"
    },
    {
     "data": {
      "text/html": [
       "<div>\n",
       "<style scoped>\n",
       "    .dataframe tbody tr th:only-of-type {\n",
       "        vertical-align: middle;\n",
       "    }\n",
       "\n",
       "    .dataframe tbody tr th {\n",
       "        vertical-align: top;\n",
       "    }\n",
       "\n",
       "    .dataframe thead th {\n",
       "        text-align: right;\n",
       "    }\n",
       "</style>\n",
       "<table border=\"1\" class=\"dataframe\">\n",
       "  <thead>\n",
       "    <tr style=\"text-align: right;\">\n",
       "      <th></th>\n",
       "      <th>Filepath</th>\n",
       "      <th>Label</th>\n",
       "    </tr>\n",
       "  </thead>\n",
       "  <tbody>\n",
       "    <tr>\n",
       "      <th>994</th>\n",
       "      <td>images/dog/d64.png</td>\n",
       "      <td>dog</td>\n",
       "    </tr>\n",
       "    <tr>\n",
       "      <th>995</th>\n",
       "      <td>images/dog/d70.png</td>\n",
       "      <td>dog</td>\n",
       "    </tr>\n",
       "    <tr>\n",
       "      <th>996</th>\n",
       "      <td>images/dog/d235.png</td>\n",
       "      <td>dog</td>\n",
       "    </tr>\n",
       "    <tr>\n",
       "      <th>997</th>\n",
       "      <td>images/dog/d58.png</td>\n",
       "      <td>dog</td>\n",
       "    </tr>\n",
       "    <tr>\n",
       "      <th>998</th>\n",
       "      <td>images/dog/d209.png</td>\n",
       "      <td>dog</td>\n",
       "    </tr>\n",
       "  </tbody>\n",
       "</table>\n",
       "</div>"
      ],
      "text/plain": [
       "                Filepath Label\n",
       "994   images/dog/d64.png   dog\n",
       "995   images/dog/d70.png   dog\n",
       "996  images/dog/d235.png   dog\n",
       "997   images/dog/d58.png   dog\n",
       "998  images/dog/d209.png   dog"
      ]
     },
     "metadata": {},
     "output_type": "display_data"
    }
   ],
   "source": [
    "dataframe = pd.concat([filepaths, labels], axis='columns')\n",
    "display(dataframe.head(), dataframe.tail())"
   ]
  },
  {
   "cell_type": "markdown",
   "id": "bfe83a9b",
   "metadata": {},
   "source": [
    "### 3. Train, test split <a class=\"anchor\" id=\"section3\"></a>\n",
    "`sklearn.model_selection.train_test_split`"
   ]
  },
  {
   "cell_type": "code",
   "execution_count": 9,
   "id": "b19554c8",
   "metadata": {},
   "outputs": [
    {
     "data": {
      "text/html": [
       "<div>\n",
       "<style scoped>\n",
       "    .dataframe tbody tr th:only-of-type {\n",
       "        vertical-align: middle;\n",
       "    }\n",
       "\n",
       "    .dataframe tbody tr th {\n",
       "        vertical-align: top;\n",
       "    }\n",
       "\n",
       "    .dataframe thead th {\n",
       "        text-align: right;\n",
       "    }\n",
       "</style>\n",
       "<table border=\"1\" class=\"dataframe\">\n",
       "  <thead>\n",
       "    <tr style=\"text-align: right;\">\n",
       "      <th></th>\n",
       "      <th>Filepath</th>\n",
       "      <th>Label</th>\n",
       "    </tr>\n",
       "  </thead>\n",
       "  <tbody>\n",
       "    <tr>\n",
       "      <th>90</th>\n",
       "      <td>images/cat/173.png</td>\n",
       "      <td>cat</td>\n",
       "    </tr>\n",
       "    <tr>\n",
       "      <th>305</th>\n",
       "      <td>images/cat/t53.png</td>\n",
       "      <td>cat</td>\n",
       "    </tr>\n",
       "    <tr>\n",
       "      <th>126</th>\n",
       "      <td>images/cat/277.png</td>\n",
       "      <td>cat</td>\n",
       "    </tr>\n",
       "    <tr>\n",
       "      <th>962</th>\n",
       "      <td>images/dog/d236.png</td>\n",
       "      <td>dog</td>\n",
       "    </tr>\n",
       "    <tr>\n",
       "      <th>163</th>\n",
       "      <td>images/cat/t88.png</td>\n",
       "      <td>cat</td>\n",
       "    </tr>\n",
       "  </tbody>\n",
       "</table>\n",
       "</div>"
      ],
      "text/plain": [
       "                Filepath Label\n",
       "90    images/cat/173.png   cat\n",
       "305   images/cat/t53.png   cat\n",
       "126   images/cat/277.png   cat\n",
       "962  images/dog/d236.png   dog\n",
       "163   images/cat/t88.png   cat"
      ]
     },
     "metadata": {},
     "output_type": "display_data"
    },
    {
     "data": {
      "text/html": [
       "<div>\n",
       "<style scoped>\n",
       "    .dataframe tbody tr th:only-of-type {\n",
       "        vertical-align: middle;\n",
       "    }\n",
       "\n",
       "    .dataframe tbody tr th {\n",
       "        vertical-align: top;\n",
       "    }\n",
       "\n",
       "    .dataframe thead th {\n",
       "        text-align: right;\n",
       "    }\n",
       "</style>\n",
       "<table border=\"1\" class=\"dataframe\">\n",
       "  <thead>\n",
       "    <tr style=\"text-align: right;\">\n",
       "      <th></th>\n",
       "      <th>Filepath</th>\n",
       "      <th>Label</th>\n",
       "    </tr>\n",
       "  </thead>\n",
       "  <tbody>\n",
       "    <tr>\n",
       "      <th>37</th>\n",
       "      <td>images/cat/74.png</td>\n",
       "      <td>cat</td>\n",
       "    </tr>\n",
       "    <tr>\n",
       "      <th>726</th>\n",
       "      <td>images/dog/d128.png</td>\n",
       "      <td>dog</td>\n",
       "    </tr>\n",
       "    <tr>\n",
       "      <th>846</th>\n",
       "      <td>images/dog/d243.png</td>\n",
       "      <td>dog</td>\n",
       "    </tr>\n",
       "    <tr>\n",
       "      <th>295</th>\n",
       "      <td>images/cat/286.png</td>\n",
       "      <td>cat</td>\n",
       "    </tr>\n",
       "    <tr>\n",
       "      <th>924</th>\n",
       "      <td>images/dog/g28.png</td>\n",
       "      <td>dog</td>\n",
       "    </tr>\n",
       "  </tbody>\n",
       "</table>\n",
       "</div>"
      ],
      "text/plain": [
       "                Filepath Label\n",
       "37     images/cat/74.png   cat\n",
       "726  images/dog/d128.png   dog\n",
       "846  images/dog/d243.png   dog\n",
       "295   images/cat/286.png   cat\n",
       "924   images/dog/g28.png   dog"
      ]
     },
     "metadata": {},
     "output_type": "display_data"
    }
   ],
   "source": [
    "# Splits arrays / matrices into random train & test subsets\n",
    "dfTrain, dfTest = train_test_split(dataframe, train_size=0.7, shuffle=True, random_state=2)\n",
    "display(dfTrain.head(), dfTest.head())"
   ]
  },
  {
   "cell_type": "markdown",
   "id": "574cb662",
   "metadata": {},
   "source": [
    "### 4. Load image data <a class=\"anchor\" id=\"section4\"></a>\n",
    "\n",
    "#### 4.1 Image data augmentation <a class=\"anchor\" id=\"section4.1\"></a>\n",
    "`tf.keras.preprocessing.image.ImageDataGenerator`"
   ]
  },
  {
   "cell_type": "code",
   "execution_count": 10,
   "id": "57ae57df",
   "metadata": {},
   "outputs": [],
   "source": [
    "# Define train generator that pulls training images\n",
    "# - generates batches of tensor image data, performs training, & recycles memory\n",
    "trainGenerator = tf.keras.preprocessing.image.ImageDataGenerator(\n",
    "                 rescale = 1/255, \n",
    "                 horizontal_flip = True, \n",
    "                 width_shift_range = 0.2, \n",
    "                 height_shift_range = 0.2,\n",
    "                 validation_split = 0.2) \n",
    "\n",
    "# Defines test generator that pulls test images\n",
    "# - generates batches of tensor image data, performs training, & recycles memory\n",
    "testGenerator = tf.keras.preprocessing.image.ImageDataGenerator(\n",
    "                 rescale = 1/255)"
   ]
  },
  {
   "cell_type": "markdown",
   "id": "e02f3f52",
   "metadata": {},
   "source": [
    "#### 4.2 Image Flow <a class=\"anchor\" id=\"section4.2\"></a>\n",
    "`flow_from_dataframe()`"
   ]
  },
  {
   "cell_type": "code",
   "execution_count": 11,
   "id": "3da6a1b8",
   "metadata": {},
   "outputs": [
    {
     "name": "stdout",
     "output_type": "stream",
     "text": [
      "Found 560 validated image filenames belonging to 2 classes.\n",
      "Found 139 validated image filenames belonging to 2 classes.\n",
      "Found 300 validated image filenames belonging to 2 classes.\n"
     ]
    }
   ],
   "source": [
    "# Training the images\n",
    "# - specifies how the images will be loaded\n",
    "trainImages = trainGenerator.flow_from_dataframe(\n",
    "              dataframe = dfTrain, # dataframe to flow through\n",
    "              x_col = 'Filepath',\n",
    "              y_col = 'Label',\n",
    "              target_size = (224,224), \n",
    "              color_mode = 'rgb',\n",
    "              class_mode = 'binary',\n",
    "              batch_size = 32,\n",
    "              shuffle = True, # True when training\n",
    "              seed = 42,\n",
    "              subset='training')\n",
    "\n",
    "# Validating the images\n",
    "# - specifies how the images will be loaded\n",
    "validateImages = trainGenerator.flow_from_dataframe(\n",
    "             dataframe = dfTrain,\n",
    "             x_col = 'Filepath',\n",
    "             y_col = 'Label',\n",
    "             target_size = (224,224),\n",
    "             color_mode = 'rgb',\n",
    "             class_mode = 'binary',\n",
    "             batch_size = 32,\n",
    "             shuffle = True, # True when training\n",
    "             seed = 42,\n",
    "             subset='validation')\n",
    "\n",
    "# Testing the images\n",
    "# - specifies how the images will be loaded\n",
    "testImages = testGenerator.flow_from_dataframe(\n",
    "             dataframe = dfTest,\n",
    "             x_col = 'Filepath',\n",
    "             y_col = 'Label',\n",
    "             target_size = (224,224),\n",
    "             color_mode = 'rgb',\n",
    "             class_mode = 'binary',\n",
    "             batch_size = 32,\n",
    "             shuffle = False) # False when evaluating "
   ]
  },
  {
   "cell_type": "markdown",
   "id": "559524cf",
   "metadata": {},
   "source": [
    "### 5. Training<a class=\"anchor\" id=\"section5\"></a>\n",
    "\n",
    "#### 5.1 Input layer <a class=\"anchor\" id=\"section5.1\"></a>\n",
    "`tf.keras.Input` \n",
    "\n",
    "note: In keras, the input layer itself is not a layer, but a Tensor (object that flows between layers are Tensors)"
   ]
  },
  {
   "cell_type": "code",
   "execution_count": 12,
   "id": "47ad6659",
   "metadata": {},
   "outputs": [
    {
     "data": {
      "text/plain": [
       "<KerasTensor: shape=(None, 224, 224, 3) dtype=float32 (created by layer 'input_1')>"
      ]
     },
     "metadata": {},
     "output_type": "display_data"
    }
   ],
   "source": [
    "# Instantiates a keras tensor \n",
    "inputLayer = tf.keras.Input(shape=(224, 224, 3)) # images are 224x224 pixels in RGB (3 channels)\n",
    "display(inputLayer)"
   ]
  },
  {
   "cell_type": "markdown",
   "id": "0f37cb30",
   "metadata": {},
   "source": [
    "#### 5.2 Convolutional Layer<a class=\"anchor\" id=\"section5.2\"></a>\n",
    "`tf.keras.layers.Conv2D` "
   ]
  },
  {
   "cell_type": "code",
   "execution_count": 13,
   "id": "ef95df0b",
   "metadata": {},
   "outputs": [
    {
     "data": {
      "text/plain": [
       "<KerasTensor: shape=(None, 222, 222, 16) dtype=float32 (created by layer 'conv2d')>"
      ]
     },
     "metadata": {},
     "output_type": "display_data"
    }
   ],
   "source": [
    "# 2D convolution layer (e.g. spatial convolution over images)\n",
    "# - the covolutional layer slides a filter/kernal/window across an input image\n",
    "# - as the convolution window slides across the input image\n",
    "# - it sends a new value to a 2D array, resulting in a 2D feature\n",
    "x = tf.keras.layers.Conv2D(\n",
    "                           filters=16, # how many times window slides across an input image\n",
    "                           kernel_size=(3, 3), \n",
    "                           activation='relu')(inputLayer) \n",
    "display(x)"
   ]
  },
  {
   "cell_type": "markdown",
   "id": "1a4114ee",
   "metadata": {},
   "source": [
    "#### 5.3 Pooling layer<a class=\"anchor\" id=\"section5.3\"></a>\n",
    "`tf.keras.layers.MaxPool2D` "
   ]
  },
  {
   "cell_type": "code",
   "execution_count": 14,
   "id": "43d6b1ff",
   "metadata": {},
   "outputs": [
    {
     "data": {
      "text/plain": [
       "<KerasTensor: shape=(None, 111, 111, 16) dtype=float32 (created by layer 'max_pooling2d')>"
      ]
     },
     "metadata": {},
     "output_type": "display_data"
    }
   ],
   "source": [
    "# MaxPool layer\n",
    "# - maxpool layer reduces the dimensionality of the Tensor\n",
    "# - it sits between convolutional layers & slides a window across the input image\n",
    "# - reducing its dimensionality, enabling the subsequent layer to look at high level features\n",
    "# - that is, the first  layer will view all the pixels of the original image before it is maxpooled\n",
    "# - then the second convolution layer will be presented with only the most important pixels\n",
    "x = tf.keras.layers.MaxPool2D(pool_size=(2,2))(x)\n",
    "display(x)\n",
    "\n",
    "# 2D convolution layer II\n",
    "x = tf.keras.layers.Conv2D(\n",
    "                           filters=32, \n",
    "                           kernel_size=(3, 3), \n",
    "                           activation='relu')(x)\n",
    "\n",
    "# MaxPool layer II\n",
    "x = tf.keras.layers.MaxPool2D(pool_size=(2,2))(x)"
   ]
  },
  {
   "cell_type": "markdown",
   "id": "e5473e3b",
   "metadata": {},
   "source": [
    "#### 5.4 Output Tensor<a class=\"anchor\" id=\"section5.4\"></a>"
   ]
  },
  {
   "cell_type": "code",
   "execution_count": 15,
   "id": "62e3b230",
   "metadata": {},
   "outputs": [
    {
     "data": {
      "text/plain": [
       "<KerasTensor: shape=(None, 54, 54, 32) dtype=float32 (created by layer 'max_pooling2d_1')>"
      ]
     },
     "metadata": {},
     "output_type": "display_data"
    }
   ],
   "source": [
    "# Output Tensor\n",
    "# - Tensor shape is (54 x 54 x 32)\n",
    "# - that is, there are now 32 features assumed useful for making classifications\n",
    "# - however, the output tensor is in 3D form & needs to be compressed down to one dimension\n",
    "display(x)"
   ]
  },
  {
   "cell_type": "markdown",
   "id": "253703f5",
   "metadata": {},
   "source": [
    "#### 5.5 Flatten output<a class=\"anchor\" id=\"section5.5\"></a>\n",
    "`tf.keras.layers.Flatten` "
   ]
  },
  {
   "cell_type": "code",
   "execution_count": 16,
   "id": "437bbc4e",
   "metadata": {},
   "outputs": [
    {
     "data": {
      "text/plain": [
       "<KerasTensor: shape=(None, 93312) dtype=float32 (created by layer 'flatten')>"
      ]
     },
     "metadata": {},
     "output_type": "display_data"
    }
   ],
   "source": [
    "# Flatten the output by taking each row & concatenating them together to create one long vector\n",
    "# - essentially, this will multiply 54 x 54 x 32\n",
    "# - however, this will result in 93,000+ features (likely to include mostly redundent information)\n",
    "# - thus, we will use an alternative method 'GlobalAveragePooling2D'\n",
    "outputFlattened=tf.keras.layers.Flatten()(x)\n",
    "display(outputFlattened)"
   ]
  },
  {
   "cell_type": "markdown",
   "id": "c1182b92",
   "metadata": {},
   "source": [
    "#### 5.6 Global average pooling<a class=\"anchor\" id=\"section5.6\"></a>\n",
    "`tf.keras.layers.GlobalAveragePooling2D`"
   ]
  },
  {
   "cell_type": "code",
   "execution_count": 17,
   "id": "dd7595eb",
   "metadata": {},
   "outputs": [
    {
     "data": {
      "text/plain": [
       "<KerasTensor: shape=(None, 32) dtype=float32 (created by layer 'global_average_pooling2d')>"
      ]
     },
     "metadata": {},
     "output_type": "display_data"
    }
   ],
   "source": [
    "# Instead of flattening the output, this will average over the first 2 dimensions (54 x 54)\n",
    "# - this will leave 32 values\n",
    "# - the goal here is for these 32 features to represent something meaningful about the input image\n",
    "# - for example, a key physical difference between cats & dogs (i.e. sharp retractable claws of a cat)\n",
    "# - the goal is to extract information rich features\n",
    "x = tf.keras.layers.GlobalAveragePooling2D()(x)\n",
    "display(x)"
   ]
  },
  {
   "cell_type": "markdown",
   "id": "9d9aa0ee",
   "metadata": {},
   "source": [
    "#### 5.7 Dense Layer<a class=\"anchor\" id=\"section5.7\"></a>\n",
    "`tf.keras.layers.Dense` "
   ]
  },
  {
   "cell_type": "code",
   "execution_count": 18,
   "id": "7549f1cc",
   "metadata": {},
   "outputs": [
    {
     "name": "stdout",
     "output_type": "stream",
     "text": [
      "{'cat': 0, 'dog': 1}\n"
     ]
    }
   ],
   "source": [
    "# Returns a dictionary containing the mapping from class names to class indices\n",
    "# - 1 is the positive class\n",
    "print(trainImages.class_indices)"
   ]
  },
  {
   "cell_type": "code",
   "execution_count": 19,
   "id": "eb3875d7",
   "metadata": {},
   "outputs": [
    {
     "data": {
      "text/plain": [
       "<KerasTensor: shape=(None, 1) dtype=float32 (created by layer 'dense_2')>"
      ]
     },
     "metadata": {},
     "output_type": "display_data"
    }
   ],
   "source": [
    "# Add dense layer to the CNN\n",
    "# - units represent the number of neurons in each layer of the NN architecture\n",
    "x = tf.keras.layers.Dense(\n",
    "    units=128, # dimensionality of the output space\n",
    "    activation='relu')(x)\n",
    "\n",
    "# Add a second dense layer to the CNN\n",
    "x = tf.keras.layers.Dense(units=128, activation='relu')(x)\n",
    "\n",
    "# Output also a dense layer\n",
    "# - only outputs one value, with a sigmoid activation since this is a binary classification task (cat or dog)\n",
    "# - the output here is the probability of the image containing a dog as it is the positive class\n",
    "outputLayer = tf.keras.layers.Dense(1, activation='sigmoid')(x)\n",
    "display(outputLayer)"
   ]
  },
  {
   "cell_type": "markdown",
   "id": "a905820e",
   "metadata": {},
   "source": [
    "### 6. Create model <a class=\"anchor\" id=\"section6\"></a>\n",
    "`tf.keras.Model`"
   ]
  },
  {
   "cell_type": "code",
   "execution_count": 20,
   "id": "058f23b1",
   "metadata": {},
   "outputs": [
    {
     "data": {
      "text/plain": [
       "<KerasTensor: shape=(None, 224, 224, 3) dtype=float32 (created by layer 'input_1')>"
      ]
     },
     "metadata": {},
     "output_type": "display_data"
    },
    {
     "data": {
      "text/plain": [
       "<KerasTensor: shape=(None, 1) dtype=float32 (created by layer 'dense_2')>"
      ]
     },
     "metadata": {},
     "output_type": "display_data"
    }
   ],
   "source": [
    "# Display the input & output layers of the CNN\n",
    "display(inputLayer, outputLayer)"
   ]
  },
  {
   "cell_type": "code",
   "execution_count": 21,
   "id": "a079fc4e",
   "metadata": {},
   "outputs": [
    {
     "name": "stdout",
     "output_type": "stream",
     "text": [
      "<class 'keras.engine.functional.Functional'>\n"
     ]
    }
   ],
   "source": [
    "# Groups these layers into an object with training and inference features\n",
    "model = tf.keras.Model(inputs=inputLayer, outputs=outputLayer)\n",
    "print(type(model))"
   ]
  },
  {
   "cell_type": "markdown",
   "id": "651ac7a6",
   "metadata": {},
   "source": [
    "#### 6.1 Compile model <a class=\"anchor\" id=\"section6.1\"></a>\n",
    "`.compile()`"
   ]
  },
  {
   "cell_type": "code",
   "execution_count": 22,
   "id": "e65da246",
   "metadata": {},
   "outputs": [
    {
     "name": "stdout",
     "output_type": "stream",
     "text": [
      "<class 'keras.engine.functional.Functional'>\n"
     ]
    }
   ],
   "source": [
    "# Configures the model for training\n",
    "model.compile(optimizer='adam',\n",
    "              loss='binary_crossentropy',\n",
    "              metrics=['accuracy'])\n",
    "\n",
    "print(type(model))"
   ]
  },
  {
   "cell_type": "markdown",
   "id": "ca7d9e7a",
   "metadata": {},
   "source": [
    "#### 6.2 Fit Model <a class=\"anchor\" id=\"section6.2\"></a>\n",
    "`.fit()` `keras.callbacks.Callback` `tf.keras.callbacks.EarlyStopping()` `tf.keras.callbacks.ReduceLROnPlateau`"
   ]
  },
  {
   "cell_type": "code",
   "execution_count": 23,
   "id": "d5532d4c",
   "metadata": {},
   "outputs": [
    {
     "name": "stdout",
     "output_type": "stream",
     "text": [
      "Epoch 1/100\n",
      "18/18 [==============================] - 28s 1s/step - loss: 0.6937 - accuracy: 0.5000 - val_loss: 0.6925 - val_accuracy: 0.4892\n",
      "Epoch 2/100\n",
      "18/18 [==============================] - 26s 1s/step - loss: 0.6916 - accuracy: 0.5214 - val_loss: 0.6911 - val_accuracy: 0.5036\n",
      "Epoch 3/100\n",
      "18/18 [==============================] - 22s 1s/step - loss: 0.6861 - accuracy: 0.5143 - val_loss: 0.6873 - val_accuracy: 0.5755\n",
      "Epoch 4/100\n",
      "18/18 [==============================] - 26s 1s/step - loss: 0.6769 - accuracy: 0.5786 - val_loss: 0.6862 - val_accuracy: 0.5180\n",
      "Epoch 5/100\n",
      "18/18 [==============================] - 29s 2s/step - loss: 0.6557 - accuracy: 0.6411 - val_loss: 0.6821 - val_accuracy: 0.5468\n",
      "Epoch 6/100\n",
      "18/18 [==============================] - 23s 1s/step - loss: 0.6448 - accuracy: 0.6411 - val_loss: 0.6916 - val_accuracy: 0.5683\n",
      "Epoch 7/100\n",
      "18/18 [==============================] - 38s 2s/step - loss: 0.6491 - accuracy: 0.6411 - val_loss: 0.6922 - val_accuracy: 0.5612\n",
      "Epoch 8/100\n",
      "18/18 [==============================] - 34s 2s/step - loss: 0.6312 - accuracy: 0.6571 - val_loss: 0.6696 - val_accuracy: 0.6475\n",
      "Epoch 9/100\n",
      "18/18 [==============================] - 31s 2s/step - loss: 0.6344 - accuracy: 0.6554 - val_loss: 0.6844 - val_accuracy: 0.6259\n",
      "Epoch 10/100\n",
      "18/18 [==============================] - 25s 1s/step - loss: 0.6326 - accuracy: 0.6643 - val_loss: 0.6760 - val_accuracy: 0.6043\n",
      "Epoch 11/100\n",
      "18/18 [==============================] - 25s 1s/step - loss: 0.6448 - accuracy: 0.6375 - val_loss: 0.6759 - val_accuracy: 0.6187\n",
      "Epoch 12/100\n",
      "18/18 [==============================] - 24s 1s/step - loss: 0.6283 - accuracy: 0.6750 - val_loss: 0.6771 - val_accuracy: 0.6115\n",
      "Epoch 13/100\n",
      "18/18 [==============================] - 26s 1s/step - loss: 0.6266 - accuracy: 0.6661 - val_loss: 0.6795 - val_accuracy: 0.6043\n"
     ]
    }
   ],
   "source": [
    "# Trains the model for a fixed number of epochs (i.e. iterations on a dataset)\n",
    "history = model.fit(x = trainImages,\n",
    "                    validation_data = validateImages,\n",
    "                    epochs = 100,\n",
    "                    callbacks = [tf.keras.callbacks.EarlyStopping(monitor='val_loss',\n",
    "                                 patience=5,restore_best_weights=True),\n",
    "                                 tf.keras.callbacks.ReduceLROnPlateau(monitor='val_loss',\n",
    "                                 patience=3)]\n",
    "                    )"
   ]
  },
  {
   "cell_type": "markdown",
   "id": "7e0e5076",
   "metadata": {},
   "source": [
    "### 7. Evaluate Results <a class=\"anchor\" id=\"section7\"></a>\n",
    "`model.evaluate`"
   ]
  },
  {
   "cell_type": "code",
   "execution_count": 24,
   "id": "19f9dd42",
   "metadata": {},
   "outputs": [
    {
     "name": "stdout",
     "output_type": "stream",
     "text": [
      "[0.6757357716560364, 0.6100000143051147]\n",
      "Test Loss: 0.67574\n",
      "Test Accuracy: 61.00%\n"
     ]
    }
   ],
   "source": [
    "# Returns the loss value & metrics values for the model in test mode\n",
    "results = model.evaluate(x=testImages, verbose=0)\n",
    "print(results)\n",
    "print('Test Loss: {:.5f}'.format(results[0]))\n",
    "print('Test Accuracy: {:.2f}%'.format(results[1] * 100))"
   ]
  },
  {
   "cell_type": "markdown",
   "id": "badeb058",
   "metadata": {},
   "source": [
    "#### 7.1 Confusion Matrix <a class=\"anchor\" id=\"section7.1\"></a>\n",
    "`model.predict()` `confusion_matrix()`"
   ]
  },
  {
   "cell_type": "code",
   "execution_count": 31,
   "id": "36366954",
   "metadata": {},
   "outputs": [
    {
     "data": {
      "image/png": "[encoded data removed]",
      "text/plain": [
       "<Figure size 432x432 with 1 Axes>"
      ]
     },
     "metadata": {
      "image/png": {
       "height": 386,
       "width": 379
      },
      "needs_background": "light"
     },
     "output_type": "display_data"
    }
   ],
   "source": [
    "# Generates output predictions for the input samples\n",
    "# - classification threshold is always 0.5 in a binary classification task\n",
    "# - if the output predictions are >= 0.5, the model will classify the image as being a dog (i.e. [1])\n",
    "predictions = (model.predict(testImages) >= 0.5).astype(np.int)\n",
    "\n",
    "# Performance measurement for machine learning classification\n",
    "confusionMatrix = confusion_matrix(y_true = testImages.labels,\n",
    "                                   y_pred = predictions,\n",
    "                                   labels=[0, 1])\n",
    "\n",
    "# Plot confusion matrix  \n",
    "plt.figure(figsize=(6, 6))\n",
    "sns.heatmap(confusionMatrix, annot=True, fmt='g', vmin=0, cmap='Blues', cbar=False)\n",
    "plt.xticks(ticks=[0.5, 1.5], labels=['CAT', 'DOG'])\n",
    "plt.yticks(ticks=[0.5, 1.5], labels=['CAT', 'DOG'])\n",
    "plt.xlabel('Predicted', loc='center')\n",
    "plt.ylabel('Actual', loc='center')\n",
    "plt.title('Confusion Matrix')\n",
    "plt.show()"
   ]
  },
  {
   "cell_type": "markdown",
   "id": "b9754ee1",
   "metadata": {},
   "source": [
    "#### 7.2 Classification Report <a class=\"anchor\" id=\"section7.2\"></a>\n",
    "`sklearn.metrics.classification_report`"
   ]
  },
  {
   "cell_type": "code",
   "execution_count": 26,
   "id": "99aab94d",
   "metadata": {},
   "outputs": [
    {
     "name": "stdout",
     "output_type": "stream",
     "text": [
      "              precision    recall  f1-score   support\n",
      "\n",
      "         CAT       0.61      0.62      0.61       149\n",
      "         DOG       0.61      0.60      0.61       151\n",
      "\n",
      "    accuracy                           0.61       300\n",
      "   macro avg       0.61      0.61      0.61       300\n",
      "weighted avg       0.61      0.61      0.61       300\n",
      "\n"
     ]
    }
   ],
   "source": [
    "# Builds a text report showing the main classification metrics\n",
    "clr = classification_report(testImages.labels, predictions, labels=[0, 1], target_names=[\"CAT\", \"DOG\"])\n",
    "print(clr)"
   ]
  },
  {
   "cell_type": "markdown",
   "id": "def07ace",
   "metadata": {},
   "source": [
    "[Click this link to return to the top of the page](#sections)"
   ]
  }
 ],
 "metadata": {
  "kernelspec": {
   "display_name": "Python 3 (ipykernel)",
   "language": "python",
   "name": "python3"
  },
  "language_info": {
   "codemirror_mode": {
    "name": "ipython",
    "version": 3
   },
   "file_extension": ".py",
   "mimetype": "text/x-python",
   "name": "python",
   "nbconvert_exporter": "python",
   "pygments_lexer": "ipython3",
   "version": "3.9.6"
  }
 },
 "nbformat": 4,
 "nbformat_minor": 5
}
